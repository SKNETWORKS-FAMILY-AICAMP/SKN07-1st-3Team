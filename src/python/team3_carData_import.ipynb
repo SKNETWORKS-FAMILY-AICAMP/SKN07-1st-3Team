{
 "cells": [
  {
   "cell_type": "markdown",
   "id": "139140db-8888-41e0-8c59-edf217698de5",
   "metadata": {},
   "source": [
    "# 국토 교통부 자동차 등록 현황 \n",
    "## 1. Data 수집\n",
    "- 국토교통 통계누리 사이트에서 자동차 등록 현황 보고를 csv 파일로 다운로드 받음.\n",
    "- 기간 : 2011년 01월 ~ 2024년 10월\n",
    "- 파일명 : car.xlsx (car.csv 파일은 숫자의 3자리 마다 ',' 기호가 찍혀 있어서 load시 에러남.\n",
    "## 2. Data Loading"
   ]
  },
  {
   "cell_type": "code",
   "execution_count": 1,
   "id": "7cc7d1b9-7037-4ab9-9769-9432d755a4ba",
   "metadata": {},
   "outputs": [],
   "source": [
    "# pip install openpyxl"
   ]
  },
  {
   "cell_type": "code",
   "execution_count": 2,
   "id": "af06aba0-362e-4c70-81d1-6b6ec93e37d8",
   "metadata": {},
   "outputs": [],
   "source": [
    "def loadData(_file = './car.xlsx'):\n",
    "    import pandas as pd\n",
    "    _df = pd.read_excel(_file, engine='openpyxl')\n",
    "    return _df        "
   ]
  },
  {
   "cell_type": "code",
   "execution_count": 3,
   "id": "0e99e2a5-bde3-47c7-967a-38838f5bbf1c",
   "metadata": {},
   "outputs": [
    {
     "name": "stderr",
     "output_type": "stream",
     "text": [
      "/home/encore/miniconda3/lib/python3.10/site-packages/openpyxl/styles/stylesheet.py:237: UserWarning: Workbook contains no default style, apply openpyxl's default\n",
      "  warn(\"Workbook contains no default style, apply openpyxl's default\")\n"
     ]
    }
   ],
   "source": [
    "df = loadData()"
   ]
  },
  {
   "cell_type": "markdown",
   "id": "6812921c-326f-41b9-b420-d4724fc1675b",
   "metadata": {},
   "source": [
    "## 3. Data 형상 분석"
   ]
  },
  {
   "cell_type": "code",
   "execution_count": 4,
   "id": "1feba768-ed17-4aba-ba29-a736aa379d5d",
   "metadata": {},
   "outputs": [
    {
     "data": {
      "text/plain": [
       "(44602, 23)"
      ]
     },
     "execution_count": 4,
     "metadata": {},
     "output_type": "execute_result"
    }
   ],
   "source": [
    "# Data의 개수 확인\n",
    "df.shape"
   ]
  },
  {
   "cell_type": "code",
   "execution_count": 5,
   "id": "6b4c18d7-3b1d-436a-bb6d-ac01d6f815f3",
   "metadata": {
    "scrolled": true
   },
   "outputs": [
    {
     "data": {
      "text/plain": [
       "Index(['자동차등록현황보고(Total Registered Motor Vehicles) / 자동차등록대수현황 시도별 (201101 ~ 202410)',\n",
       "       'Unnamed: 1', 'Unnamed: 2', 'Unnamed: 3', 'Unnamed: 4', 'Unnamed: 5',\n",
       "       'Unnamed: 6', 'Unnamed: 7', 'Unnamed: 8', 'Unnamed: 9', 'Unnamed: 10',\n",
       "       'Unnamed: 11', 'Unnamed: 12', 'Unnamed: 13', 'Unnamed: 14',\n",
       "       'Unnamed: 15', 'Unnamed: 16', 'Unnamed: 17', 'Unnamed: 18',\n",
       "       'Unnamed: 19', 'Unnamed: 20', 'Unnamed: 21', 'Unnamed: 22'],\n",
       "      dtype='object')"
      ]
     },
     "execution_count": 5,
     "metadata": {},
     "output_type": "execute_result"
    }
   ],
   "source": [
    "# Data의 컬럼명 확인\n",
    "df.columns"
   ]
  },
  {
   "cell_type": "code",
   "execution_count": 6,
   "id": "faff1ee6-30cd-4fa2-b2c6-66c9af090617",
   "metadata": {
    "scrolled": true
   },
   "outputs": [
    {
     "data": {
      "text/html": [
       "<div>\n",
       "<style scoped>\n",
       "    .dataframe tbody tr th:only-of-type {\n",
       "        vertical-align: middle;\n",
       "    }\n",
       "\n",
       "    .dataframe tbody tr th {\n",
       "        vertical-align: top;\n",
       "    }\n",
       "\n",
       "    .dataframe thead th {\n",
       "        text-align: right;\n",
       "    }\n",
       "</style>\n",
       "<table border=\"1\" class=\"dataframe\">\n",
       "  <thead>\n",
       "    <tr style=\"text-align: right;\">\n",
       "      <th></th>\n",
       "      <th>자동차등록현황보고(Total Registered Motor Vehicles) / 자동차등록대수현황 시도별 (201101 ~ 202410)</th>\n",
       "      <th>Unnamed: 1</th>\n",
       "      <th>Unnamed: 2</th>\n",
       "      <th>Unnamed: 3</th>\n",
       "      <th>Unnamed: 4</th>\n",
       "      <th>Unnamed: 5</th>\n",
       "      <th>Unnamed: 6</th>\n",
       "      <th>Unnamed: 7</th>\n",
       "      <th>Unnamed: 8</th>\n",
       "      <th>Unnamed: 9</th>\n",
       "      <th>...</th>\n",
       "      <th>Unnamed: 13</th>\n",
       "      <th>Unnamed: 14</th>\n",
       "      <th>Unnamed: 15</th>\n",
       "      <th>Unnamed: 16</th>\n",
       "      <th>Unnamed: 17</th>\n",
       "      <th>Unnamed: 18</th>\n",
       "      <th>Unnamed: 19</th>\n",
       "      <th>Unnamed: 20</th>\n",
       "      <th>Unnamed: 21</th>\n",
       "      <th>Unnamed: 22</th>\n",
       "    </tr>\n",
       "  </thead>\n",
       "  <tbody>\n",
       "    <tr>\n",
       "      <th>0</th>\n",
       "      <td>다운로드 시간 : 2024-11-13   11:11</td>\n",
       "      <td>NaN</td>\n",
       "      <td>NaN</td>\n",
       "      <td>NaN</td>\n",
       "      <td>NaN</td>\n",
       "      <td>NaN</td>\n",
       "      <td>NaN</td>\n",
       "      <td>NaN</td>\n",
       "      <td>NaN</td>\n",
       "      <td>NaN</td>\n",
       "      <td>...</td>\n",
       "      <td>NaN</td>\n",
       "      <td>NaN</td>\n",
       "      <td>NaN</td>\n",
       "      <td>NaN</td>\n",
       "      <td>NaN</td>\n",
       "      <td>NaN</td>\n",
       "      <td>NaN</td>\n",
       "      <td>NaN</td>\n",
       "      <td>NaN</td>\n",
       "      <td>NaN</td>\n",
       "    </tr>\n",
       "    <tr>\n",
       "      <th>1</th>\n",
       "      <td>NaN</td>\n",
       "      <td>검색기간  : 201101 ~ 202410</td>\n",
       "      <td>검색분야 : 종합일반</td>\n",
       "      <td>작성주기 : 매월</td>\n",
       "      <td>단위 : 대</td>\n",
       "      <td>NaN</td>\n",
       "      <td>NaN</td>\n",
       "      <td>NaN</td>\n",
       "      <td>NaN</td>\n",
       "      <td>NaN</td>\n",
       "      <td>...</td>\n",
       "      <td>NaN</td>\n",
       "      <td>NaN</td>\n",
       "      <td>NaN</td>\n",
       "      <td>NaN</td>\n",
       "      <td>NaN</td>\n",
       "      <td>NaN</td>\n",
       "      <td>NaN</td>\n",
       "      <td>NaN</td>\n",
       "      <td>NaN</td>\n",
       "      <td>NaN</td>\n",
       "    </tr>\n",
       "    <tr>\n",
       "      <th>2</th>\n",
       "      <td></td>\n",
       "      <td>NaN</td>\n",
       "      <td>NaN</td>\n",
       "      <td>NaN</td>\n",
       "      <td>NaN</td>\n",
       "      <td>NaN</td>\n",
       "      <td>NaN</td>\n",
       "      <td>NaN</td>\n",
       "      <td>NaN</td>\n",
       "      <td>NaN</td>\n",
       "      <td>...</td>\n",
       "      <td>NaN</td>\n",
       "      <td>NaN</td>\n",
       "      <td>NaN</td>\n",
       "      <td>NaN</td>\n",
       "      <td>NaN</td>\n",
       "      <td>NaN</td>\n",
       "      <td>NaN</td>\n",
       "      <td>NaN</td>\n",
       "      <td>NaN</td>\n",
       "      <td>NaN</td>\n",
       "    </tr>\n",
       "    <tr>\n",
       "      <th>3</th>\n",
       "      <td>월(Monthly)</td>\n",
       "      <td>시도명</td>\n",
       "      <td>시군구</td>\n",
       "      <td>승용</td>\n",
       "      <td>승용</td>\n",
       "      <td>승용</td>\n",
       "      <td>승용</td>\n",
       "      <td>승합</td>\n",
       "      <td>승합</td>\n",
       "      <td>승합</td>\n",
       "      <td>...</td>\n",
       "      <td>화물</td>\n",
       "      <td>화물</td>\n",
       "      <td>특수</td>\n",
       "      <td>특수</td>\n",
       "      <td>특수</td>\n",
       "      <td>특수</td>\n",
       "      <td>총계</td>\n",
       "      <td>총계</td>\n",
       "      <td>총계</td>\n",
       "      <td>총계</td>\n",
       "    </tr>\n",
       "    <tr>\n",
       "      <th>4</th>\n",
       "      <td>월(Monthly)</td>\n",
       "      <td>시도명</td>\n",
       "      <td>시군구</td>\n",
       "      <td>관용</td>\n",
       "      <td>자가용</td>\n",
       "      <td>영업용</td>\n",
       "      <td>계</td>\n",
       "      <td>관용</td>\n",
       "      <td>자가용</td>\n",
       "      <td>영업용</td>\n",
       "      <td>...</td>\n",
       "      <td>영업용</td>\n",
       "      <td>계</td>\n",
       "      <td>관용</td>\n",
       "      <td>자가용</td>\n",
       "      <td>영업용</td>\n",
       "      <td>계</td>\n",
       "      <td>관용</td>\n",
       "      <td>자가용</td>\n",
       "      <td>영업용</td>\n",
       "      <td>계</td>\n",
       "    </tr>\n",
       "    <tr>\n",
       "      <th>5</th>\n",
       "      <td>2011-01</td>\n",
       "      <td>서울</td>\n",
       "      <td>계</td>\n",
       "      <td>3,969</td>\n",
       "      <td>2,292,616</td>\n",
       "      <td>146,971</td>\n",
       "      <td>2,443,556</td>\n",
       "      <td>2,493</td>\n",
       "      <td>157,299</td>\n",
       "      <td>17,198</td>\n",
       "      <td>...</td>\n",
       "      <td>52,648</td>\n",
       "      <td>366,723</td>\n",
       "      <td>314</td>\n",
       "      <td>1,062</td>\n",
       "      <td>2,528</td>\n",
       "      <td>3,904</td>\n",
       "      <td>10,487</td>\n",
       "      <td>2,761,341</td>\n",
       "      <td>219,345</td>\n",
       "      <td>2,991,173</td>\n",
       "    </tr>\n",
       "    <tr>\n",
       "      <th>6</th>\n",
       "      <td>2011-01</td>\n",
       "      <td>서울</td>\n",
       "      <td>강남구</td>\n",
       "      <td>163</td>\n",
       "      <td>192,610</td>\n",
       "      <td>31,456</td>\n",
       "      <td>224,229</td>\n",
       "      <td>86</td>\n",
       "      <td>8,261</td>\n",
       "      <td>1,728</td>\n",
       "      <td>...</td>\n",
       "      <td>1,630</td>\n",
       "      <td>19,198</td>\n",
       "      <td>21</td>\n",
       "      <td>94</td>\n",
       "      <td>134</td>\n",
       "      <td>249</td>\n",
       "      <td>431</td>\n",
       "      <td>218,372</td>\n",
       "      <td>34,948</td>\n",
       "      <td>253,751</td>\n",
       "    </tr>\n",
       "  </tbody>\n",
       "</table>\n",
       "<p>7 rows × 23 columns</p>\n",
       "</div>"
      ],
      "text/plain": [
       "  자동차등록현황보고(Total Registered Motor Vehicles) / 자동차등록대수현황 시도별 (201101 ~ 202410)  \\\n",
       "0                       다운로드 시간 : 2024-11-13   11:11                             \n",
       "1                                                NaN                             \n",
       "2                                                                                \n",
       "3                                         월(Monthly)                             \n",
       "4                                         월(Monthly)                             \n",
       "5                                            2011-01                             \n",
       "6                                            2011-01                             \n",
       "\n",
       "                Unnamed: 1   Unnamed: 2 Unnamed: 3 Unnamed: 4 Unnamed: 5  \\\n",
       "0                      NaN          NaN        NaN        NaN        NaN   \n",
       "1  검색기간  : 201101 ~ 202410  검색분야 : 종합일반  작성주기 : 매월     단위 : 대        NaN   \n",
       "2                      NaN          NaN        NaN        NaN        NaN   \n",
       "3                      시도명          시군구         승용         승용         승용   \n",
       "4                      시도명          시군구         관용        자가용        영업용   \n",
       "5                       서울            계      3,969  2,292,616    146,971   \n",
       "6                       서울          강남구        163    192,610     31,456   \n",
       "\n",
       "  Unnamed: 6 Unnamed: 7 Unnamed: 8 Unnamed: 9  ... Unnamed: 13 Unnamed: 14  \\\n",
       "0        NaN        NaN        NaN        NaN  ...         NaN         NaN   \n",
       "1        NaN        NaN        NaN        NaN  ...         NaN         NaN   \n",
       "2        NaN        NaN        NaN        NaN  ...         NaN         NaN   \n",
       "3         승용         승합         승합         승합  ...          화물          화물   \n",
       "4          계         관용        자가용        영업용  ...         영업용           계   \n",
       "5  2,443,556      2,493    157,299     17,198  ...      52,648     366,723   \n",
       "6    224,229         86      8,261      1,728  ...       1,630      19,198   \n",
       "\n",
       "  Unnamed: 15 Unnamed: 16 Unnamed: 17 Unnamed: 18 Unnamed: 19 Unnamed: 20  \\\n",
       "0         NaN         NaN         NaN         NaN         NaN         NaN   \n",
       "1         NaN         NaN         NaN         NaN         NaN         NaN   \n",
       "2         NaN         NaN         NaN         NaN         NaN         NaN   \n",
       "3          특수          특수          특수          특수          총계          총계   \n",
       "4          관용         자가용         영업용           계          관용         자가용   \n",
       "5         314       1,062       2,528       3,904      10,487   2,761,341   \n",
       "6          21          94         134         249         431     218,372   \n",
       "\n",
       "  Unnamed: 21 Unnamed: 22  \n",
       "0         NaN         NaN  \n",
       "1         NaN         NaN  \n",
       "2         NaN         NaN  \n",
       "3          총계          총계  \n",
       "4         영업용           계  \n",
       "5     219,345   2,991,173  \n",
       "6      34,948     253,751  \n",
       "\n",
       "[7 rows x 23 columns]"
      ]
     },
     "execution_count": 6,
     "metadata": {},
     "output_type": "execute_result"
    }
   ],
   "source": [
    "# 컬럼명이 특이하여 Data 의 형상 확인\n",
    "df.head(7)"
   ]
  },
  {
   "cell_type": "code",
   "execution_count": 7,
   "id": "0e8e0596-3203-4c01-93e5-7ae92298b376",
   "metadata": {},
   "outputs": [
    {
     "data": {
      "text/plain": [
       "자동차등록현황보고(Total Registered Motor Vehicles) / 자동차등록대수현황 시도별 (201101 ~ 202410)    object\n",
       "Unnamed: 1                                                                      object\n",
       "Unnamed: 2                                                                      object\n",
       "Unnamed: 3                                                                      object\n",
       "Unnamed: 4                                                                      object\n",
       "Unnamed: 5                                                                      object\n",
       "Unnamed: 6                                                                      object\n",
       "Unnamed: 7                                                                      object\n",
       "Unnamed: 8                                                                      object\n",
       "Unnamed: 9                                                                      object\n",
       "Unnamed: 10                                                                     object\n",
       "Unnamed: 11                                                                     object\n",
       "Unnamed: 12                                                                     object\n",
       "Unnamed: 13                                                                     object\n",
       "Unnamed: 14                                                                     object\n",
       "Unnamed: 15                                                                     object\n",
       "Unnamed: 16                                                                     object\n",
       "Unnamed: 17                                                                     object\n",
       "Unnamed: 18                                                                     object\n",
       "Unnamed: 19                                                                     object\n",
       "Unnamed: 20                                                                     object\n",
       "Unnamed: 21                                                                     object\n",
       "Unnamed: 22                                                                     object\n",
       "dtype: object"
      ]
     },
     "execution_count": 7,
     "metadata": {},
     "output_type": "execute_result"
    }
   ],
   "source": [
    "# 데이터 타입 확인\n",
    "df.dtypes"
   ]
  },
  {
   "cell_type": "code",
   "execution_count": 8,
   "id": "9a339832-41f8-469c-8025-94862980ad37",
   "metadata": {
    "scrolled": true
   },
   "outputs": [
    {
     "data": {
      "text/plain": [
       "자동차등록현황보고(Total Registered Motor Vehicles) / 자동차등록대수현황 시도별 (201101 ~ 202410)      0\n",
       "Unnamed: 1                                                                        0\n",
       "Unnamed: 2                                                                        0\n",
       "Unnamed: 3                                                                       10\n",
       "Unnamed: 4                                                                        7\n",
       "Unnamed: 5                                                                        8\n",
       "Unnamed: 6                                                                        7\n",
       "Unnamed: 7                                                                       35\n",
       "Unnamed: 8                                                                        7\n",
       "Unnamed: 9                                                                       38\n",
       "Unnamed: 10                                                                       7\n",
       "Unnamed: 11                                                                      39\n",
       "Unnamed: 12                                                                       7\n",
       "Unnamed: 13                                                                      32\n",
       "Unnamed: 14                                                                       7\n",
       "Unnamed: 15                                                                     336\n",
       "Unnamed: 16                                                                      37\n",
       "Unnamed: 17                                                                      91\n",
       "Unnamed: 18                                                                      37\n",
       "Unnamed: 19                                                                      10\n",
       "Unnamed: 20                                                                       7\n",
       "Unnamed: 21                                                                       7\n",
       "Unnamed: 22                                                                       7\n",
       "dtype: int64"
      ]
     },
     "execution_count": 8,
     "metadata": {},
     "output_type": "execute_result"
    }
   ],
   "source": [
    "# Null Data 확인\n",
    "df.loc[5:,].isnull().sum()"
   ]
  },
  {
   "cell_type": "code",
   "execution_count": 9,
   "id": "c0d84fcb-b528-4514-be5f-9b6f17de3ba5",
   "metadata": {
    "scrolled": true
   },
   "outputs": [
    {
     "data": {
      "text/plain": [
       "3         특수\n",
       "4         관용\n",
       "5        314\n",
       "6         21\n",
       "7         10\n",
       "        ... \n",
       "44597     13\n",
       "44598     28\n",
       "44599      8\n",
       "44600     15\n",
       "44601    209\n",
       "Name: Unnamed: 15, Length: 44599, dtype: object"
      ]
     },
     "execution_count": 9,
     "metadata": {},
     "output_type": "execute_result"
    }
   ],
   "source": [
    "# Null 이 많은 컬럼이 무슨 데이터를 의미 하는지 확인\n",
    "df.loc[3:,'Unnamed: 15']"
   ]
  },
  {
   "cell_type": "code",
   "execution_count": 10,
   "id": "51bf0dff-69d5-4707-8000-3aebf21cc60a",
   "metadata": {},
   "outputs": [
    {
     "data": {
      "text/plain": [
       "str"
      ]
     },
     "execution_count": 10,
     "metadata": {},
     "output_type": "execute_result"
    }
   ],
   "source": [
    "type(df.iloc[5,22])"
   ]
  },
  {
   "cell_type": "markdown",
   "id": "bdb82bca-9d3f-4811-b409-baed8725f597",
   "metadata": {},
   "source": [
    "### 3.2. 형상 확인 결과\n",
    "- 데이터 값은 5행부터 시작함\n",
    "- 컬럼명은 데이터의 제목명으로 추정 컬럼명 변경 필요\n",
    "- 0행은 원본 엑셀파일의 다운로드 시간으로 추정 삭제 필요\n",
    "- 1행은 데이터의 검색 조건으로 추정 삭제 필요\n",
    "- 2행은 공백 행으로 추정 삭제 필요\n",
    "- 3행과 4행은 실제적인 컬럼명으로 추정, 컬럼명을 추출 후 삭제 필요\n",
    "- 숫자 데이터는 문자열로 추정, 자릿수 제거 필요"
   ]
  },
  {
   "cell_type": "markdown",
   "id": "7adbaa2f-11fa-440a-a750-32349c9ec708",
   "metadata": {},
   "source": [
    "## 4. Data 전처리\n",
    "### 4.1. 컬럼 명 변경"
   ]
  },
  {
   "cell_type": "code",
   "execution_count": 11,
   "id": "ab0c5db9-88f2-4d92-bf2b-3f8f315903b9",
   "metadata": {
    "scrolled": true
   },
   "outputs": [],
   "source": [
    "df.columns = [\"month\",\"sido\",\"gungu\",\"passengerA\",\"passengerB\",\"passengerC\",\"passengerT\",\"vanA\",\"vanB\",\"vanC\",\"vanT\",\"cargoA\",\"cargoB\",\"cargoC\",\"cargoT\",\"specialA\",\"specialB\",\"specialC\",\"specialT\",\"totalA\",\"totalB\",\"totalC\",\"totalT\"]"
   ]
  },
  {
   "cell_type": "markdown",
   "id": "6cb56978-0419-4872-b58d-089ce4e8bbb8",
   "metadata": {},
   "source": [
    "### 4.2. 이상 행 삭제"
   ]
  },
  {
   "cell_type": "code",
   "execution_count": 12,
   "id": "6ef4e319-3e82-4bda-ab80-1f7fa455f5ce",
   "metadata": {},
   "outputs": [],
   "source": [
    "df = df.iloc[5:,]"
   ]
  },
  {
   "cell_type": "markdown",
   "id": "915f63c9-e0c0-4465-813f-bdbffecd7fb8",
   "metadata": {},
   "source": [
    "### 4.3. 숫자문자를 숫자로 변경"
   ]
  },
  {
   "cell_type": "code",
   "execution_count": 13,
   "id": "78d309cb-a764-4bdb-bb0a-b72f8bc24be9",
   "metadata": {
    "scrolled": true
   },
   "outputs": [
    {
     "name": "stderr",
     "output_type": "stream",
     "text": [
      "/tmp/ipykernel_2456/3313810265.py:1: FutureWarning: A value is trying to be set on a copy of a DataFrame or Series through chained assignment using an inplace method.\n",
      "The behavior will change in pandas 3.0. This inplace method will never work because the intermediate object on which we are setting values always behaves as a copy.\n",
      "\n",
      "For example, when doing 'df[col].method(value, inplace=True)', try using 'df.method({col: value}, inplace=True)' or df[col] = df[col].method(value) instead, to perform the operation inplace on the original object.\n",
      "\n",
      "\n",
      "  df.iloc[0:,3:].replace(to_replace=',', value='',regex=True, inplace=True)\n"
     ]
    }
   ],
   "source": [
    "df.iloc[0:,3:].replace(to_replace=',', value='',regex=True, inplace=True)"
   ]
  },
  {
   "cell_type": "code",
   "execution_count": 14,
   "id": "fda1e411-dae1-4436-b546-9ca9efc84378",
   "metadata": {
    "scrolled": true
   },
   "outputs": [],
   "source": [
    "import numpy as np\n",
    "df.iloc[0:,3:] = df.iloc[0:,3:].fillna(-1).astype('int').replace({-1:np.nan}) "
   ]
  },
  {
   "cell_type": "code",
   "execution_count": 15,
   "id": "8ef8f647-4021-4f2c-b6e4-4822da166cb9",
   "metadata": {},
   "outputs": [
    {
     "data": {
      "text/plain": [
       "float"
      ]
     },
     "execution_count": 15,
     "metadata": {},
     "output_type": "execute_result"
    }
   ],
   "source": [
    "type(df.iloc[0,3])"
   ]
  },
  {
   "cell_type": "markdown",
   "id": "a2986976-886f-4b50-9d4d-3b51515ea6b5",
   "metadata": {},
   "source": [
    "### 4.4. 월을 Date 형식으로 변경"
   ]
  },
  {
   "cell_type": "code",
   "execution_count": 16,
   "id": "9bbde0e4-4bdb-4e33-b3d7-056529f15646",
   "metadata": {},
   "outputs": [],
   "source": [
    "df.iloc[0:,0] = df.iloc[0:,0] + '-01'"
   ]
  },
  {
   "cell_type": "code",
   "execution_count": 17,
   "id": "b4e1f4a7-08e6-45b3-902e-aaaa09767cdb",
   "metadata": {},
   "outputs": [
    {
     "data": {
      "text/html": [
       "<div>\n",
       "<style scoped>\n",
       "    .dataframe tbody tr th:only-of-type {\n",
       "        vertical-align: middle;\n",
       "    }\n",
       "\n",
       "    .dataframe tbody tr th {\n",
       "        vertical-align: top;\n",
       "    }\n",
       "\n",
       "    .dataframe thead th {\n",
       "        text-align: right;\n",
       "    }\n",
       "</style>\n",
       "<table border=\"1\" class=\"dataframe\">\n",
       "  <thead>\n",
       "    <tr style=\"text-align: right;\">\n",
       "      <th></th>\n",
       "      <th>month</th>\n",
       "      <th>sido</th>\n",
       "      <th>gungu</th>\n",
       "      <th>passengerA</th>\n",
       "      <th>passengerB</th>\n",
       "      <th>passengerC</th>\n",
       "      <th>passengerT</th>\n",
       "      <th>vanA</th>\n",
       "      <th>vanB</th>\n",
       "      <th>vanC</th>\n",
       "      <th>...</th>\n",
       "      <th>cargoC</th>\n",
       "      <th>cargoT</th>\n",
       "      <th>specialA</th>\n",
       "      <th>specialB</th>\n",
       "      <th>specialC</th>\n",
       "      <th>specialT</th>\n",
       "      <th>totalA</th>\n",
       "      <th>totalB</th>\n",
       "      <th>totalC</th>\n",
       "      <th>totalT</th>\n",
       "    </tr>\n",
       "  </thead>\n",
       "  <tbody>\n",
       "    <tr>\n",
       "      <th>5</th>\n",
       "      <td>2011-01-01</td>\n",
       "      <td>서울</td>\n",
       "      <td>계</td>\n",
       "      <td>3969.0</td>\n",
       "      <td>2292616.0</td>\n",
       "      <td>146971.0</td>\n",
       "      <td>2443556.0</td>\n",
       "      <td>2493.0</td>\n",
       "      <td>157299.0</td>\n",
       "      <td>17198.0</td>\n",
       "      <td>...</td>\n",
       "      <td>52648.0</td>\n",
       "      <td>366723.0</td>\n",
       "      <td>314.0</td>\n",
       "      <td>1062.0</td>\n",
       "      <td>2528.0</td>\n",
       "      <td>3904.0</td>\n",
       "      <td>10487.0</td>\n",
       "      <td>2761341.0</td>\n",
       "      <td>219345.0</td>\n",
       "      <td>2991173.0</td>\n",
       "    </tr>\n",
       "    <tr>\n",
       "      <th>6</th>\n",
       "      <td>2011-01-01</td>\n",
       "      <td>서울</td>\n",
       "      <td>강남구</td>\n",
       "      <td>163.0</td>\n",
       "      <td>192610.0</td>\n",
       "      <td>31456.0</td>\n",
       "      <td>224229.0</td>\n",
       "      <td>86.0</td>\n",
       "      <td>8261.0</td>\n",
       "      <td>1728.0</td>\n",
       "      <td>...</td>\n",
       "      <td>1630.0</td>\n",
       "      <td>19198.0</td>\n",
       "      <td>21.0</td>\n",
       "      <td>94.0</td>\n",
       "      <td>134.0</td>\n",
       "      <td>249.0</td>\n",
       "      <td>431.0</td>\n",
       "      <td>218372.0</td>\n",
       "      <td>34948.0</td>\n",
       "      <td>253751.0</td>\n",
       "    </tr>\n",
       "    <tr>\n",
       "      <th>7</th>\n",
       "      <td>2011-01-01</td>\n",
       "      <td>서울</td>\n",
       "      <td>강동구</td>\n",
       "      <td>81.0</td>\n",
       "      <td>107074.0</td>\n",
       "      <td>6261.0</td>\n",
       "      <td>113416.0</td>\n",
       "      <td>50.0</td>\n",
       "      <td>8159.0</td>\n",
       "      <td>703.0</td>\n",
       "      <td>...</td>\n",
       "      <td>2096.0</td>\n",
       "      <td>17662.0</td>\n",
       "      <td>10.0</td>\n",
       "      <td>34.0</td>\n",
       "      <td>157.0</td>\n",
       "      <td>201.0</td>\n",
       "      <td>256.0</td>\n",
       "      <td>130718.0</td>\n",
       "      <td>9217.0</td>\n",
       "      <td>140191.0</td>\n",
       "    </tr>\n",
       "    <tr>\n",
       "      <th>8</th>\n",
       "      <td>2011-01-01</td>\n",
       "      <td>서울</td>\n",
       "      <td>강북구</td>\n",
       "      <td>103.0</td>\n",
       "      <td>55201.0</td>\n",
       "      <td>2585.0</td>\n",
       "      <td>57889.0</td>\n",
       "      <td>47.0</td>\n",
       "      <td>5189.0</td>\n",
       "      <td>727.0</td>\n",
       "      <td>...</td>\n",
       "      <td>1434.0</td>\n",
       "      <td>10215.0</td>\n",
       "      <td>10.0</td>\n",
       "      <td>15.0</td>\n",
       "      <td>17.0</td>\n",
       "      <td>42.0</td>\n",
       "      <td>302.0</td>\n",
       "      <td>69044.0</td>\n",
       "      <td>4763.0</td>\n",
       "      <td>74109.0</td>\n",
       "    </tr>\n",
       "    <tr>\n",
       "      <th>9</th>\n",
       "      <td>2011-01-01</td>\n",
       "      <td>서울</td>\n",
       "      <td>강서구</td>\n",
       "      <td>111.0</td>\n",
       "      <td>132643.0</td>\n",
       "      <td>15523.0</td>\n",
       "      <td>148277.0</td>\n",
       "      <td>58.0</td>\n",
       "      <td>9761.0</td>\n",
       "      <td>1254.0</td>\n",
       "      <td>...</td>\n",
       "      <td>2672.0</td>\n",
       "      <td>21757.0</td>\n",
       "      <td>13.0</td>\n",
       "      <td>80.0</td>\n",
       "      <td>88.0</td>\n",
       "      <td>181.0</td>\n",
       "      <td>349.0</td>\n",
       "      <td>161402.0</td>\n",
       "      <td>19537.0</td>\n",
       "      <td>181288.0</td>\n",
       "    </tr>\n",
       "  </tbody>\n",
       "</table>\n",
       "<p>5 rows × 23 columns</p>\n",
       "</div>"
      ],
      "text/plain": [
       "        month sido gungu passengerA passengerB passengerC passengerT    vanA  \\\n",
       "5  2011-01-01   서울     계     3969.0  2292616.0   146971.0  2443556.0  2493.0   \n",
       "6  2011-01-01   서울   강남구      163.0   192610.0    31456.0   224229.0    86.0   \n",
       "7  2011-01-01   서울   강동구       81.0   107074.0     6261.0   113416.0    50.0   \n",
       "8  2011-01-01   서울   강북구      103.0    55201.0     2585.0    57889.0    47.0   \n",
       "9  2011-01-01   서울   강서구      111.0   132643.0    15523.0   148277.0    58.0   \n",
       "\n",
       "       vanB     vanC  ...   cargoC    cargoT specialA specialB specialC  \\\n",
       "5  157299.0  17198.0  ...  52648.0  366723.0    314.0   1062.0   2528.0   \n",
       "6    8261.0   1728.0  ...   1630.0   19198.0     21.0     94.0    134.0   \n",
       "7    8159.0    703.0  ...   2096.0   17662.0     10.0     34.0    157.0   \n",
       "8    5189.0    727.0  ...   1434.0   10215.0     10.0     15.0     17.0   \n",
       "9    9761.0   1254.0  ...   2672.0   21757.0     13.0     80.0     88.0   \n",
       "\n",
       "  specialT   totalA     totalB    totalC     totalT  \n",
       "5   3904.0  10487.0  2761341.0  219345.0  2991173.0  \n",
       "6    249.0    431.0   218372.0   34948.0   253751.0  \n",
       "7    201.0    256.0   130718.0    9217.0   140191.0  \n",
       "8     42.0    302.0    69044.0    4763.0    74109.0  \n",
       "9    181.0    349.0   161402.0   19537.0   181288.0  \n",
       "\n",
       "[5 rows x 23 columns]"
      ]
     },
     "execution_count": 17,
     "metadata": {},
     "output_type": "execute_result"
    }
   ],
   "source": [
    "df.head(5)"
   ]
  },
  {
   "cell_type": "markdown",
   "id": "4cdffe83-e7d8-45a6-bb71-2c281b9f23a5",
   "metadata": {},
   "source": [
    "### 4.5. Index 변경"
   ]
  },
  {
   "cell_type": "code",
   "execution_count": 77,
   "id": "9b843d3e-345e-4b06-87b4-23ac718795be",
   "metadata": {
    "scrolled": true
   },
   "outputs": [],
   "source": [
    "df.set_index('month', inplace=True)"
   ]
  },
  {
   "cell_type": "code",
   "execution_count": 78,
   "id": "777d614f-d3a3-43db-9871-1077d75ac3df",
   "metadata": {},
   "outputs": [
    {
     "data": {
      "text/html": [
       "<div>\n",
       "<style scoped>\n",
       "    .dataframe tbody tr th:only-of-type {\n",
       "        vertical-align: middle;\n",
       "    }\n",
       "\n",
       "    .dataframe tbody tr th {\n",
       "        vertical-align: top;\n",
       "    }\n",
       "\n",
       "    .dataframe thead th {\n",
       "        text-align: right;\n",
       "    }\n",
       "</style>\n",
       "<table border=\"1\" class=\"dataframe\">\n",
       "  <thead>\n",
       "    <tr style=\"text-align: right;\">\n",
       "      <th></th>\n",
       "      <th>sido</th>\n",
       "      <th>gungu</th>\n",
       "      <th>passengerA</th>\n",
       "      <th>passengerB</th>\n",
       "      <th>passengerC</th>\n",
       "      <th>passengerT</th>\n",
       "      <th>vanA</th>\n",
       "      <th>vanB</th>\n",
       "      <th>vanC</th>\n",
       "      <th>vanT</th>\n",
       "      <th>...</th>\n",
       "      <th>cargoC</th>\n",
       "      <th>cargoT</th>\n",
       "      <th>specialA</th>\n",
       "      <th>specialB</th>\n",
       "      <th>specialC</th>\n",
       "      <th>specialT</th>\n",
       "      <th>totalA</th>\n",
       "      <th>totalB</th>\n",
       "      <th>totalC</th>\n",
       "      <th>totalT</th>\n",
       "    </tr>\n",
       "    <tr>\n",
       "      <th>month</th>\n",
       "      <th></th>\n",
       "      <th></th>\n",
       "      <th></th>\n",
       "      <th></th>\n",
       "      <th></th>\n",
       "      <th></th>\n",
       "      <th></th>\n",
       "      <th></th>\n",
       "      <th></th>\n",
       "      <th></th>\n",
       "      <th></th>\n",
       "      <th></th>\n",
       "      <th></th>\n",
       "      <th></th>\n",
       "      <th></th>\n",
       "      <th></th>\n",
       "      <th></th>\n",
       "      <th></th>\n",
       "      <th></th>\n",
       "      <th></th>\n",
       "      <th></th>\n",
       "    </tr>\n",
       "  </thead>\n",
       "  <tbody>\n",
       "    <tr>\n",
       "      <th>2011-01-01</th>\n",
       "      <td>서울</td>\n",
       "      <td>계</td>\n",
       "      <td>3969.0</td>\n",
       "      <td>2292616.0</td>\n",
       "      <td>146971.0</td>\n",
       "      <td>2443556.0</td>\n",
       "      <td>2493.0</td>\n",
       "      <td>157299.0</td>\n",
       "      <td>17198.0</td>\n",
       "      <td>176990.0</td>\n",
       "      <td>...</td>\n",
       "      <td>52648.0</td>\n",
       "      <td>366723.0</td>\n",
       "      <td>314.0</td>\n",
       "      <td>1062.0</td>\n",
       "      <td>2528.0</td>\n",
       "      <td>3904.0</td>\n",
       "      <td>10487.0</td>\n",
       "      <td>2761341.0</td>\n",
       "      <td>219345.0</td>\n",
       "      <td>2991173.0</td>\n",
       "    </tr>\n",
       "    <tr>\n",
       "      <th>2011-01-01</th>\n",
       "      <td>서울</td>\n",
       "      <td>강남구</td>\n",
       "      <td>163.0</td>\n",
       "      <td>192610.0</td>\n",
       "      <td>31456.0</td>\n",
       "      <td>224229.0</td>\n",
       "      <td>86.0</td>\n",
       "      <td>8261.0</td>\n",
       "      <td>1728.0</td>\n",
       "      <td>10075.0</td>\n",
       "      <td>...</td>\n",
       "      <td>1630.0</td>\n",
       "      <td>19198.0</td>\n",
       "      <td>21.0</td>\n",
       "      <td>94.0</td>\n",
       "      <td>134.0</td>\n",
       "      <td>249.0</td>\n",
       "      <td>431.0</td>\n",
       "      <td>218372.0</td>\n",
       "      <td>34948.0</td>\n",
       "      <td>253751.0</td>\n",
       "    </tr>\n",
       "    <tr>\n",
       "      <th>2011-01-01</th>\n",
       "      <td>서울</td>\n",
       "      <td>강동구</td>\n",
       "      <td>81.0</td>\n",
       "      <td>107074.0</td>\n",
       "      <td>6261.0</td>\n",
       "      <td>113416.0</td>\n",
       "      <td>50.0</td>\n",
       "      <td>8159.0</td>\n",
       "      <td>703.0</td>\n",
       "      <td>8912.0</td>\n",
       "      <td>...</td>\n",
       "      <td>2096.0</td>\n",
       "      <td>17662.0</td>\n",
       "      <td>10.0</td>\n",
       "      <td>34.0</td>\n",
       "      <td>157.0</td>\n",
       "      <td>201.0</td>\n",
       "      <td>256.0</td>\n",
       "      <td>130718.0</td>\n",
       "      <td>9217.0</td>\n",
       "      <td>140191.0</td>\n",
       "    </tr>\n",
       "    <tr>\n",
       "      <th>2011-01-01</th>\n",
       "      <td>서울</td>\n",
       "      <td>강북구</td>\n",
       "      <td>103.0</td>\n",
       "      <td>55201.0</td>\n",
       "      <td>2585.0</td>\n",
       "      <td>57889.0</td>\n",
       "      <td>47.0</td>\n",
       "      <td>5189.0</td>\n",
       "      <td>727.0</td>\n",
       "      <td>5963.0</td>\n",
       "      <td>...</td>\n",
       "      <td>1434.0</td>\n",
       "      <td>10215.0</td>\n",
       "      <td>10.0</td>\n",
       "      <td>15.0</td>\n",
       "      <td>17.0</td>\n",
       "      <td>42.0</td>\n",
       "      <td>302.0</td>\n",
       "      <td>69044.0</td>\n",
       "      <td>4763.0</td>\n",
       "      <td>74109.0</td>\n",
       "    </tr>\n",
       "    <tr>\n",
       "      <th>2011-01-01</th>\n",
       "      <td>서울</td>\n",
       "      <td>강서구</td>\n",
       "      <td>111.0</td>\n",
       "      <td>132643.0</td>\n",
       "      <td>15523.0</td>\n",
       "      <td>148277.0</td>\n",
       "      <td>58.0</td>\n",
       "      <td>9761.0</td>\n",
       "      <td>1254.0</td>\n",
       "      <td>11073.0</td>\n",
       "      <td>...</td>\n",
       "      <td>2672.0</td>\n",
       "      <td>21757.0</td>\n",
       "      <td>13.0</td>\n",
       "      <td>80.0</td>\n",
       "      <td>88.0</td>\n",
       "      <td>181.0</td>\n",
       "      <td>349.0</td>\n",
       "      <td>161402.0</td>\n",
       "      <td>19537.0</td>\n",
       "      <td>181288.0</td>\n",
       "    </tr>\n",
       "  </tbody>\n",
       "</table>\n",
       "<p>5 rows × 22 columns</p>\n",
       "</div>"
      ],
      "text/plain": [
       "           sido gungu passengerA passengerB passengerC passengerT    vanA  \\\n",
       "month                                                                       \n",
       "2011-01-01   서울     계     3969.0  2292616.0   146971.0  2443556.0  2493.0   \n",
       "2011-01-01   서울   강남구      163.0   192610.0    31456.0   224229.0    86.0   \n",
       "2011-01-01   서울   강동구       81.0   107074.0     6261.0   113416.0    50.0   \n",
       "2011-01-01   서울   강북구      103.0    55201.0     2585.0    57889.0    47.0   \n",
       "2011-01-01   서울   강서구      111.0   132643.0    15523.0   148277.0    58.0   \n",
       "\n",
       "                vanB     vanC      vanT  ...   cargoC    cargoT specialA  \\\n",
       "month                                    ...                               \n",
       "2011-01-01  157299.0  17198.0  176990.0  ...  52648.0  366723.0    314.0   \n",
       "2011-01-01    8261.0   1728.0   10075.0  ...   1630.0   19198.0     21.0   \n",
       "2011-01-01    8159.0    703.0    8912.0  ...   2096.0   17662.0     10.0   \n",
       "2011-01-01    5189.0    727.0    5963.0  ...   1434.0   10215.0     10.0   \n",
       "2011-01-01    9761.0   1254.0   11073.0  ...   2672.0   21757.0     13.0   \n",
       "\n",
       "           specialB specialC specialT   totalA     totalB    totalC     totalT  \n",
       "month                                                                           \n",
       "2011-01-01   1062.0   2528.0   3904.0  10487.0  2761341.0  219345.0  2991173.0  \n",
       "2011-01-01     94.0    134.0    249.0    431.0   218372.0   34948.0   253751.0  \n",
       "2011-01-01     34.0    157.0    201.0    256.0   130718.0    9217.0   140191.0  \n",
       "2011-01-01     15.0     17.0     42.0    302.0    69044.0    4763.0    74109.0  \n",
       "2011-01-01     80.0     88.0    181.0    349.0   161402.0   19537.0   181288.0  \n",
       "\n",
       "[5 rows x 22 columns]"
      ]
     },
     "execution_count": 78,
     "metadata": {},
     "output_type": "execute_result"
    }
   ],
   "source": [
    "df.head(5)"
   ]
  },
  {
   "cell_type": "markdown",
   "id": "a7530324-bdea-403c-9ec5-cc22075a12e1",
   "metadata": {},
   "source": [
    "# 5. DB 생성\n",
    "\n",
    "## 5.1. Connection 객체 만들기"
   ]
  },
  {
   "cell_type": "code",
   "execution_count": 18,
   "id": "c09ab1bd-15f6-41d8-bacc-a04cd4a04fe8",
   "metadata": {},
   "outputs": [],
   "source": [
    "def getEngine():\n",
    "    import sqlalchemy\n",
    "    from urllib import parse\n",
    "    user = 'team3'\n",
    "    password = 'Encore_team3@'\n",
    "    host='192.168.0.95'\n",
    "    port = 3306\n",
    "    database = 'team3'\n",
    "    password = parse.quote_plus(password)\n",
    "    engine = sqlalchemy.create_engine(f\"mysql://{user}:{password}@{host}:{port}/{database}\")\n",
    "    \n",
    "    try:\n",
    "        with engine.connect() as connection:\n",
    "            print(\"Database connection successful!\")\n",
    "    except Exception as e:\n",
    "        print(f\"Database connection failed: {e}\")\n",
    "\n",
    "    return engine"
   ]
  },
  {
   "cell_type": "code",
   "execution_count": 19,
   "id": "759c016a-3ff1-4fbb-aae3-ca229ba2a98c",
   "metadata": {},
   "outputs": [
    {
     "name": "stdout",
     "output_type": "stream",
     "text": [
      "Database connection successful!\n"
     ]
    }
   ],
   "source": [
    "_engine = getEngine()"
   ]
  },
  {
   "cell_type": "markdown",
   "id": "1d6addc8-da9d-43a4-94ec-74362b1a69fe",
   "metadata": {},
   "source": [
    "### 5.2. Table 생성"
   ]
  },
  {
   "cell_type": "code",
   "execution_count": 20,
   "id": "602bdb29-8b5c-4a0f-9317-2393f0b6f6ee",
   "metadata": {},
   "outputs": [],
   "source": [
    "def createTable(engine):\n",
    "    from sqlalchemy.ext.declarative import declarative_base\n",
    "    from sqlalchemy import Column, Integer, String, DECIMAL, Float, Date, Table, Double\n",
    "\n",
    "    Base = declarative_base()\n",
    "    \n",
    "    class Car(Base):\n",
    "        __tablename__  = 'tb_car'\n",
    "        seq     = Column(Integer, autoincrement=True, primary_key=True)\n",
    "        month   = Column(Date)             # 월(Monthly)\n",
    "        sido    = Column(String(10))       # 시도명\n",
    "        gugun   = Column(String(10))       # 시군구\n",
    "        passengerA      = Column(Double)  # 승용-관용\n",
    "        passengerB      = Column(Double)  # 승용-자가용\n",
    "        passengerC      = Column(Double)  # 승용-영업용\n",
    "        passengerT      = Column(Double)  # 승용-계\n",
    "        vanA            = Column(Double)  # 승합-관용\n",
    "        vanB            = Column(Double)  # 승합-자가용\n",
    "        vanC            = Column(Double)  # 승합-영업용\n",
    "        vanT            = Column(Double)  # 승합-계\n",
    "        cargoA          = Column(Double)  # 화물-관용\n",
    "        cargoB          = Column(Double)  # 화물-자가용\n",
    "        cargoC          = Column(Double)  # 화물-영업용\n",
    "        cargoT          = Column(Double)  # 화물-계\n",
    "        specialA        = Column(Double)  # 특수-관용\n",
    "        specialB        = Column(Double)  # 특수-자가용\n",
    "        specialC        = Column(Double)  # 특수-영업용\n",
    "        specialT        = Column(Double)  # 특수-계\n",
    "        totalA          = Column(Double)  # 총계-관용\n",
    "        totalB          = Column(Double)  # 총계-자가용\n",
    "        totalC          = Column(Double)  # 총계-영업용\n",
    "        totalT          = Column(Double)  # 총계-계\n",
    "\n",
    "    base = Base()\n",
    "    base.metadata.drop_all(engine)\n",
    "    base.metadata.create_all(engine)"
   ]
  },
  {
   "cell_type": "code",
   "execution_count": 21,
   "id": "65f66181-eec4-43f8-b9ba-318fe47e9d80",
   "metadata": {},
   "outputs": [
    {
     "name": "stderr",
     "output_type": "stream",
     "text": [
      "/tmp/ipykernel_2456/1746101534.py:5: MovedIn20Warning: The ``declarative_base()`` function is now available as sqlalchemy.orm.declarative_base(). (deprecated since: 2.0) (Background on SQLAlchemy 2.0 at: https://sqlalche.me/e/b8d9)\n",
      "  Base = declarative_base()\n"
     ]
    }
   ],
   "source": [
    "# createTable(_engine)"
   ]
  },
  {
   "cell_type": "code",
   "execution_count": 22,
   "id": "227218a9-bd53-40c1-91bc-4ceba7b55324",
   "metadata": {},
   "outputs": [
    {
     "data": {
      "text/plain": [
       "Index(['month', 'sido', 'gungu', 'passengerA', 'passengerB', 'passengerC',\n",
       "       'passengerT', 'vanA', 'vanB', 'vanC', 'vanT', 'cargoA', 'cargoB',\n",
       "       'cargoC', 'cargoT', 'specialA', 'specialB', 'specialC', 'specialT',\n",
       "       'totalA', 'totalB', 'totalC', 'totalT'],\n",
       "      dtype='object')"
      ]
     },
     "execution_count": 22,
     "metadata": {},
     "output_type": "execute_result"
    }
   ],
   "source": [
    "df.columns"
   ]
  },
  {
   "cell_type": "markdown",
   "id": "89cb284a-4c05-46b9-8600-c2b322f6b8bc",
   "metadata": {},
   "source": [
    "### 5.3. Data Import to DB"
   ]
  },
  {
   "cell_type": "code",
   "execution_count": 23,
   "id": "f54e9247-0111-4aca-999e-1067d67356f2",
   "metadata": {
    "scrolled": true
   },
   "outputs": [
    {
     "data": {
      "text/plain": [
       "44597"
      ]
     },
     "execution_count": 23,
     "metadata": {},
     "output_type": "execute_result"
    }
   ],
   "source": [
    "df.to_sql('tb_car', if_exists='append', index=False, con=_engine)\n",
    "# cu_df.to_sql('tb_cu',if_exists='append', index=False, con=engine)"
   ]
  },
  {
   "cell_type": "markdown",
   "id": "db94abd6-5dc3-4ee4-b176-1e1110225cdb",
   "metadata": {},
   "source": [
    "## 6. Data 분석\n",
    "\n",
    "### 6.1.서울 지역의 등록 차량 증가 추이"
   ]
  },
  {
   "cell_type": "code",
   "execution_count": 165,
   "id": "187bf1a6-9a5d-4bc1-b548-146e9df39925",
   "metadata": {},
   "outputs": [],
   "source": [
    "def drawData(_df):\n",
    "    # _df.loc[0:20,'passengerT'].plot(kind='line')\n",
    "    _df.loc[(_df['sido']=='서울') & (_df['gungu']=='계'),['passengerT','vanT','cargoT', 'specialT']].plot.line(figsize=(10,5))"
   ]
  },
  {
   "cell_type": "code",
   "execution_count": 166,
   "id": "291c6c0f-3c4d-405b-9a6e-fe287bb5f3b1",
   "metadata": {
    "scrolled": true
   },
   "outputs": [],
   "source": [
    "# df.loc[(df['sido']=='서울') & (df['gungu']=='계'),['passengerT','vanT','cargoT', 'specialT']]"
   ]
  },
  {
   "cell_type": "code",
   "execution_count": 167,
   "id": "db7e08bf-8c15-4745-8c3e-2302facc3c0e",
   "metadata": {},
   "outputs": [
    {
     "data": {
      "image/png": "[encoded data removed]",
      "text/plain": [
       "<Figure size 1000x500 with 1 Axes>"
      ]
     },
     "metadata": {},
     "output_type": "display_data"
    }
   ],
   "source": [
    "drawData(df)"
   ]
  },
  {
   "cell_type": "markdown",
   "id": "ae2537a9-11e1-4b97-8e9d-e302c0885374",
   "metadata": {},
   "source": [
    "### 6.2. 서울 지역 구별 등록 차량 변화 추이"
   ]
  },
  {
   "cell_type": "code",
   "execution_count": 179,
   "id": "c3f8162d-d268-4786-8c74-8278ebcebeb7",
   "metadata": {},
   "outputs": [],
   "source": [
    "def drawDataGu(_df):\n",
    "    _df.loc[(_df['sido']=='서울') & (_df['gungu']!='계'),['gungu','passengerT','vanT','cargoT', 'specialT']].plot.bar(figsize=(15,5), )"
   ]
  },
  {
   "cell_type": "code",
   "execution_count": null,
   "id": "03cd46c6-b077-49bd-bdef-03981210631f",
   "metadata": {},
   "outputs": [],
   "source": [
    "df.loc[(df['sido']=='서울') & (df['gungu']!='계'),['gungu','passengerT','vanT','cargoT', 'specialT']].loc['2023-12-01'].plot.line(figsize=(15,5),x='gungu')"
   ]
  },
  {
   "cell_type": "code",
   "execution_count": 181,
   "id": "9909c1cb-f510-4ee1-a394-24b546fe7ace",
   "metadata": {
    "collapsed": true,
    "jupyter": {
     "outputs_hidden": true
    },
    "scrolled": true
   },
   "outputs": [
    {
     "data": {
      "image/png": "[encoded data removed]",
      "text/plain": [
       "<Figure size 1500x500 with 1 Axes>"
      ]
     },
     "metadata": {},
     "output_type": "display_data"
    }
   ],
   "source": [
    "drawDataGu(df)"
   ]
  },
  {
   "cell_type": "code",
   "execution_count": 188,
   "id": "4893a881-54b9-45e4-8bd2-00ef1e777d94",
   "metadata": {
    "scrolled": true
   },
   "outputs": [
    {
     "name": "stdout",
     "output_type": "stream",
     "text": [
      "Help on method line in module pandas.plotting._core:\n",
      "\n",
      "line(x: 'Hashable | None' = None, y: 'Hashable | None' = None, **kwargs) -> 'PlotAccessor' method of pandas.plotting._core.PlotAccessor instance\n",
      "    Plot Series or DataFrame as lines.\n",
      "    \n",
      "    This function is useful to plot lines using DataFrame's values\n",
      "    as coordinates.\n",
      "    \n",
      "    Parameters\n",
      "    ----------\n",
      "    x : label or position, optional\n",
      "        Allows plotting of one column versus another. If not specified,\n",
      "        the index of the DataFrame is used.\n",
      "    y : label or position, optional\n",
      "        Allows plotting of one column versus another. If not specified,\n",
      "        all numerical columns are used.\n",
      "    color : str, array-like, or dict, optional\n",
      "        The color for each of the DataFrame's columns. Possible values are:\n",
      "    \n",
      "        - A single color string referred to by name, RGB or RGBA code,\n",
      "            for instance 'red' or '#a98d19'.\n",
      "    \n",
      "        - A sequence of color strings referred to by name, RGB or RGBA\n",
      "            code, which will be used for each column recursively. For\n",
      "            instance ['green','yellow'] each column's line will be filled in\n",
      "            green or yellow, alternatively. If there is only a single column to\n",
      "            be plotted, then only the first color from the color list will be\n",
      "            used.\n",
      "    \n",
      "        - A dict of the form {column name : color}, so that each column will be\n",
      "            colored accordingly. For example, if your columns are called `a` and\n",
      "            `b`, then passing {'a': 'green', 'b': 'red'} will color lines for\n",
      "            column `a` in green and lines for column `b` in red.\n",
      "    \n",
      "    **kwargs\n",
      "        Additional keyword arguments are documented in\n",
      "        :meth:`DataFrame.plot`.\n",
      "    \n",
      "    Returns\n",
      "    -------\n",
      "    matplotlib.axes.Axes or np.ndarray of them\n",
      "        An ndarray is returned with one :class:`matplotlib.axes.Axes`\n",
      "        per column when ``subplots=True``.\n",
      "    \n",
      "            See Also\n",
      "            --------\n",
      "            matplotlib.pyplot.plot : Plot y versus x as lines and/or markers.\n",
      "    \n",
      "            Examples\n",
      "            --------\n",
      "    \n",
      "            .. plot::\n",
      "                :context: close-figs\n",
      "    \n",
      "                >>> s = pd.Series([1, 3, 2])\n",
      "                >>> s.plot.line()  # doctest: +SKIP\n",
      "    \n",
      "            .. plot::\n",
      "                :context: close-figs\n",
      "    \n",
      "                The following example shows the populations for some animals\n",
      "                over the years.\n",
      "    \n",
      "                >>> df = pd.DataFrame({\n",
      "                ...    'pig': [20, 18, 489, 675, 1776],\n",
      "                ...    'horse': [4, 25, 281, 600, 1900]\n",
      "                ...    }, index=[1990, 1997, 2003, 2009, 2014])\n",
      "                >>> lines = df.plot.line()\n",
      "    \n",
      "            .. plot::\n",
      "               :context: close-figs\n",
      "    \n",
      "               An example with subplots, so an array of axes is returned.\n",
      "    \n",
      "               >>> axes = df.plot.line(subplots=True)\n",
      "               >>> type(axes)\n",
      "               <class 'numpy.ndarray'>\n",
      "    \n",
      "            .. plot::\n",
      "               :context: close-figs\n",
      "    \n",
      "               Let's repeat the same example, but specifying colors for\n",
      "               each column (in this case, for each animal).\n",
      "    \n",
      "               >>> axes = df.plot.line(\n",
      "               ...     subplots=True, color={\"pig\": \"pink\", \"horse\": \"#742802\"}\n",
      "               ... )\n",
      "    \n",
      "            .. plot::\n",
      "                :context: close-figs\n",
      "    \n",
      "                The following example shows the relationship between both\n",
      "                populations.\n",
      "    \n",
      "                >>> lines = df.plot.line(x='pig', y='horse')\n",
      "\n"
     ]
    }
   ],
   "source": [
    "import pandas\n",
    "help(pandas.DataFrame().plot.line)"
   ]
  },
  {
   "cell_type": "code",
   "execution_count": 198,
   "id": "ec71942a-8460-4a3e-bbf3-3c83f4fa456c",
   "metadata": {},
   "outputs": [
    {
     "data": {
      "text/plain": [
       "0"
      ]
     },
     "execution_count": 198,
     "metadata": {},
     "output_type": "execute_result"
    }
   ],
   "source": [
    "import matplotlib.font_manager as fm\n",
    "font_list = [font.name for font in fm.fontManager.ttflist]\n",
    "font_list.count('nanum*')"
   ]
  },
  {
   "cell_type": "code",
   "execution_count": null,
   "id": "27325d47-1bad-4709-9593-1da9de189400",
   "metadata": {},
   "outputs": [],
   "source": []
  }
 ],
 "metadata": {
  "kernelspec": {
   "display_name": "Python 3 (ipykernel)",
   "language": "python",
   "name": "python3"
  },
  "language_info": {
   "codemirror_mode": {
    "name": "ipython",
    "version": 3
   },
   "file_extension": ".py",
   "mimetype": "text/x-python",
   "name": "python",
   "nbconvert_exporter": "python",
   "pygments_lexer": "ipython3",
   "version": "3.10.15"
  }
 },
 "nbformat": 4,
 "nbformat_minor": 5
}
