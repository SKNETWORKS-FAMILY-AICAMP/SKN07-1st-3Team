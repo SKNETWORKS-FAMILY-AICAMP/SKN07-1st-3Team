{
 "cells": [
  {
   "cell_type": "markdown",
   "id": "56140b74-23eb-4648-8d81-3877b217dbfd",
   "metadata": {},
   "source": [
    "# 국토 교통부 자동차 등록 현황 분석 2\n",
    "\n",
    "## 1. Data Load\n",
    "### 1.1. Connection 객체 만들기"
   ]
  },
  {
   "cell_type": "code",
   "execution_count": 1,
   "id": "d5b91f90-f746-4859-8cae-f3c05765752f",
   "metadata": {},
   "outputs": [],
   "source": [
    "def getEngine():\n",
    "    import sqlalchemy\n",
    "    from urllib import parse\n",
    "    user = 'team3'\n",
    "    password = 'Encore_team3@'\n",
    "    host='192.168.0.95'\n",
    "    port = 3306\n",
    "    database = 'team3'\n",
    "    password = parse.quote_plus(password)\n",
    "    engine = sqlalchemy.create_engine(f\"mysql://{user}:{password}@{host}:{port}/{database}\")\n",
    "    \n",
    "    try:\n",
    "        with engine.connect() as connection:\n",
    "            print(\"Database connection successful!\")\n",
    "    except Exception as e:\n",
    "        print(f\"Database connection failed: {e}\")\n",
    "\n",
    "    return engine"
   ]
  },
  {
   "cell_type": "markdown",
   "id": "4cce49f2-1006-4754-b618-831bfa1becf4",
   "metadata": {},
   "source": [
    "### 1.2. DB로 부터 Data Load"
   ]
  },
  {
   "cell_type": "code",
   "execution_count": 2,
   "id": "cb682763-6c53-4504-8eb6-839f6e2b1bfc",
   "metadata": {},
   "outputs": [],
   "source": [
    "def loadData(_engine, tb_name):\n",
    "    import pandas as pd\n",
    "    return pd.read_sql(tb_name,con=_engine)"
   ]
  },
  {
   "cell_type": "code",
   "execution_count": 3,
   "id": "871a6240-a8cd-46c6-925b-e72b5befc5e5",
   "metadata": {},
   "outputs": [
    {
     "name": "stdout",
     "output_type": "stream",
     "text": [
      "Database connection successful!\n"
     ]
    }
   ],
   "source": [
    "_engine = getEngine()"
   ]
  },
  {
   "cell_type": "code",
   "execution_count": 11,
   "id": "6c5082f0-4ae0-4340-9aa4-4f835e079247",
   "metadata": {
    "scrolled": true
   },
   "outputs": [],
   "source": [
    "# def drawParkWithCar(_engine):\n",
    "import pandas as pd\n",
    "df_car = loadData(_engine, 'tb_car')\n",
    "df_park = loadData(_engine, 'tb_park')\n",
    "\n",
    "df_car.index = df_car.month.apply(lambda x : x.strftime('%Y-%m'))\n",
    "df_car.drop(['seq','month'], axis=1, inplace=True)\n",
    "\n",
    "df_car_2 = df_car.loc[(df_car['gugun'] == '계') ,['sido','totalT']].loc['2024-10']\n",
    "df_park_group = pd.DataFrame( df_park.loc[:,['Sido','Gugun','Spaces']].groupby('Sido')['Spaces'].sum())"
   ]
  },
  {
   "cell_type": "code",
   "execution_count": 18,
   "id": "39d62edc-fe9c-4b28-b271-afaa910b9dc3",
   "metadata": {
    "scrolled": true
   },
   "outputs": [
    {
     "data": {
      "text/plain": [
       "(      Spaces\n",
       " Sido        \n",
       " 강원     13671\n",
       " 경기     67552\n",
       " 경남     24273\n",
       " 경북     39638\n",
       " 광주      6633\n",
       " 대구      7310\n",
       " 대전      5162\n",
       " 부산     13080\n",
       " 서울     15396\n",
       " 세종      5517\n",
       " 울산     15727\n",
       " 인천     26970\n",
       " 전남     21815\n",
       " 전북     24281\n",
       " 충남     16617\n",
       " 충북      5496,\n",
       "          totalT\n",
       " sido           \n",
       " 서울    3177864.0\n",
       " 부산    1553233.0\n",
       " 대구    1259876.0\n",
       " 인천    1748504.0\n",
       " 광주     729183.0\n",
       " 대전     734476.0\n",
       " 울산     606251.0\n",
       " 세종     201704.0\n",
       " 경기    6617414.0\n",
       " 충북     947185.0\n",
       " 충남    1269692.0\n",
       " 전남    1272882.0\n",
       " 경북    1550581.0\n",
       " 경남    1975975.0\n",
       " 제주     712452.0\n",
       " 강원     874041.0\n",
       " 전북    1001256.0)"
      ]
     },
     "execution_count": 18,
     "metadata": {},
     "output_type": "execute_result"
    }
   ],
   "source": [
    "# df_park_group\n",
    "# df_car_2.set_index('sido',inplace=True)\n",
    "df_park_group, df_car_2"
   ]
  },
  {
   "cell_type": "code",
   "execution_count": 24,
   "id": "eb563857-8a59-42ad-a601-57e9828b2a97",
   "metadata": {},
   "outputs": [
    {
     "data": {
      "text/html": [
       "<div>\n",
       "<style scoped>\n",
       "    .dataframe tbody tr th:only-of-type {\n",
       "        vertical-align: middle;\n",
       "    }\n",
       "\n",
       "    .dataframe tbody tr th {\n",
       "        vertical-align: top;\n",
       "    }\n",
       "\n",
       "    .dataframe thead th {\n",
       "        text-align: right;\n",
       "    }\n",
       "</style>\n",
       "<table border=\"1\" class=\"dataframe\">\n",
       "  <thead>\n",
       "    <tr style=\"text-align: right;\">\n",
       "      <th></th>\n",
       "      <th>Spaces</th>\n",
       "      <th>totalT</th>\n",
       "      <th>rate</th>\n",
       "    </tr>\n",
       "  </thead>\n",
       "  <tbody>\n",
       "    <tr>\n",
       "      <th>강원</th>\n",
       "      <td>13671</td>\n",
       "      <td>874041.0</td>\n",
       "      <td>63.933948</td>\n",
       "    </tr>\n",
       "    <tr>\n",
       "      <th>경기</th>\n",
       "      <td>67552</td>\n",
       "      <td>6617414.0</td>\n",
       "      <td>97.960297</td>\n",
       "    </tr>\n",
       "    <tr>\n",
       "      <th>경남</th>\n",
       "      <td>24273</td>\n",
       "      <td>1975975.0</td>\n",
       "      <td>81.406295</td>\n",
       "    </tr>\n",
       "    <tr>\n",
       "      <th>경북</th>\n",
       "      <td>39638</td>\n",
       "      <td>1550581.0</td>\n",
       "      <td>39.118548</td>\n",
       "    </tr>\n",
       "    <tr>\n",
       "      <th>광주</th>\n",
       "      <td>6633</td>\n",
       "      <td>729183.0</td>\n",
       "      <td>109.932610</td>\n",
       "    </tr>\n",
       "    <tr>\n",
       "      <th>대구</th>\n",
       "      <td>7310</td>\n",
       "      <td>1259876.0</td>\n",
       "      <td>172.349658</td>\n",
       "    </tr>\n",
       "    <tr>\n",
       "      <th>대전</th>\n",
       "      <td>5162</td>\n",
       "      <td>734476.0</td>\n",
       "      <td>142.285161</td>\n",
       "    </tr>\n",
       "    <tr>\n",
       "      <th>부산</th>\n",
       "      <td>13080</td>\n",
       "      <td>1553233.0</td>\n",
       "      <td>118.748700</td>\n",
       "    </tr>\n",
       "    <tr>\n",
       "      <th>서울</th>\n",
       "      <td>15396</td>\n",
       "      <td>3177864.0</td>\n",
       "      <td>206.408418</td>\n",
       "    </tr>\n",
       "    <tr>\n",
       "      <th>세종</th>\n",
       "      <td>5517</td>\n",
       "      <td>201704.0</td>\n",
       "      <td>36.560450</td>\n",
       "    </tr>\n",
       "    <tr>\n",
       "      <th>울산</th>\n",
       "      <td>15727</td>\n",
       "      <td>606251.0</td>\n",
       "      <td>38.548420</td>\n",
       "    </tr>\n",
       "    <tr>\n",
       "      <th>인천</th>\n",
       "      <td>26970</td>\n",
       "      <td>1748504.0</td>\n",
       "      <td>64.831442</td>\n",
       "    </tr>\n",
       "    <tr>\n",
       "      <th>전남</th>\n",
       "      <td>21815</td>\n",
       "      <td>1272882.0</td>\n",
       "      <td>58.348934</td>\n",
       "    </tr>\n",
       "    <tr>\n",
       "      <th>전북</th>\n",
       "      <td>24281</td>\n",
       "      <td>1001256.0</td>\n",
       "      <td>41.236193</td>\n",
       "    </tr>\n",
       "    <tr>\n",
       "      <th>충남</th>\n",
       "      <td>16617</td>\n",
       "      <td>1269692.0</td>\n",
       "      <td>76.409219</td>\n",
       "    </tr>\n",
       "    <tr>\n",
       "      <th>충북</th>\n",
       "      <td>5496</td>\n",
       "      <td>947185.0</td>\n",
       "      <td>172.340793</td>\n",
       "    </tr>\n",
       "  </tbody>\n",
       "</table>\n",
       "</div>"
      ],
      "text/plain": [
       "    Spaces     totalT        rate\n",
       "강원   13671   874041.0   63.933948\n",
       "경기   67552  6617414.0   97.960297\n",
       "경남   24273  1975975.0   81.406295\n",
       "경북   39638  1550581.0   39.118548\n",
       "광주    6633   729183.0  109.932610\n",
       "대구    7310  1259876.0  172.349658\n",
       "대전    5162   734476.0  142.285161\n",
       "부산   13080  1553233.0  118.748700\n",
       "서울   15396  3177864.0  206.408418\n",
       "세종    5517   201704.0   36.560450\n",
       "울산   15727   606251.0   38.548420\n",
       "인천   26970  1748504.0   64.831442\n",
       "전남   21815  1272882.0   58.348934\n",
       "전북   24281  1001256.0   41.236193\n",
       "충남   16617  1269692.0   76.409219\n",
       "충북    5496   947185.0  172.340793"
      ]
     },
     "execution_count": 24,
     "metadata": {},
     "output_type": "execute_result"
    }
   ],
   "source": [
    "# df_merged = pd.merge(df_park_group,df_car_2,how='inner', left_index=True , right_index=True)\n",
    "df_merged['rate'] = df_merged['totalT'] / df_merged['Spaces'] \n",
    "df_merged"
   ]
  },
  {
   "cell_type": "markdown",
   "id": "d637cd75-dda0-421b-be11-f07bf88c4b8a",
   "metadata": {},
   "source": [
    "## 2. 분석 "
   ]
  },
  {
   "cell_type": "markdown",
   "id": "a2eea453-5d1d-4103-9d0d-7fd2db288046",
   "metadata": {},
   "source": [
    "### 2.1. 2024년 10월 시도별 주차 공간 당 등록 차량 수"
   ]
  },
  {
   "cell_type": "code",
   "execution_count": 31,
   "id": "37ede638-da00-4fc6-a3da-23a02bc195f6",
   "metadata": {},
   "outputs": [],
   "source": [
    "def drawSido(_df):\n",
    "    import matplotlib.pyplot as plt\n",
    "    plt.rc('font', family='NanumGothic')\n",
    "    _df['rate'].plot.bar(rot=0)"
   ]
  },
  {
   "cell_type": "code",
   "execution_count": 32,
   "id": "c75af7bf-0375-4f9b-8c2f-d56b645eb0ff",
   "metadata": {},
   "outputs": [
    {
     "data": {
      "image/png": "[encoded data removed]",
      "text/plain": [
       "<Figure size 640x480 with 1 Axes>"
      ]
     },
     "metadata": {},
     "output_type": "display_data"
    }
   ],
   "source": [
    "drawSido(df_merged)"
   ]
  },
  {
   "cell_type": "code",
   "execution_count": null,
   "id": "98fc3829-ea16-49c0-996b-eaf67e881922",
   "metadata": {},
   "outputs": [],
   "source": [
    "### "
   ]
  }
 ],
 "metadata": {
  "kernelspec": {
   "display_name": "Python 3 (ipykernel)",
   "language": "python",
   "name": "python3"
  },
  "language_info": {
   "codemirror_mode": {
    "name": "ipython",
    "version": 3
   },
   "file_extension": ".py",
   "mimetype": "text/x-python",
   "name": "python",
   "nbconvert_exporter": "python",
   "pygments_lexer": "ipython3",
   "version": "3.10.15"
  }
 },
 "nbformat": 4,
 "nbformat_minor": 5
}
