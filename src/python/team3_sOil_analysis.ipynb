{
 "cells": [
  {
   "cell_type": "code",
   "execution_count": 5,
   "id": "eea625c8-f9a7-4f13-a14f-f823a6f18e9b",
   "metadata": {},
   "outputs": [],
   "source": [
    "import pandas as pd"
   ]
  },
  {
   "cell_type": "code",
   "execution_count": 6,
   "id": "7c1a9017-c23a-4ea0-8918-7cff4096ace8",
   "metadata": {},
   "outputs": [],
   "source": [
    "s_oil = pd.read_csv('./tb_s_oil.csv')"
   ]
  },
  {
   "cell_type": "code",
   "execution_count": 8,
   "id": "ce525cea-0293-463c-8453-92ab5e8f5026",
   "metadata": {
    "scrolled": true
   },
   "outputs": [
    {
     "data": {
      "text/html": [
       "<div>\n",
       "<style scoped>\n",
       "    .dataframe tbody tr th:only-of-type {\n",
       "        vertical-align: middle;\n",
       "    }\n",
       "\n",
       "    .dataframe tbody tr th {\n",
       "        vertical-align: top;\n",
       "    }\n",
       "\n",
       "    .dataframe thead th {\n",
       "        text-align: right;\n",
       "    }\n",
       "</style>\n",
       "<table border=\"1\" class=\"dataframe\">\n",
       "  <thead>\n",
       "    <tr style=\"text-align: right;\">\n",
       "      <th></th>\n",
       "      <th>chnlNo</th>\n",
       "      <th>bunJi</th>\n",
       "      <th>rowTotalCnt</th>\n",
       "      <th>sido</th>\n",
       "      <th>ducostG</th>\n",
       "      <th>chnlTypeCdNm</th>\n",
       "      <th>zipCode</th>\n",
       "      <th>adres</th>\n",
       "      <th>chnlNm</th>\n",
       "      <th>gugun</th>\n",
       "      <th>chnlSubTypeCdNm</th>\n",
       "      <th>ducostB</th>\n",
       "      <th>fax</th>\n",
       "      <th>chnlSubTypeCd</th>\n",
       "    </tr>\n",
       "  </thead>\n",
       "  <tbody>\n",
       "    <tr>\n",
       "      <th>0</th>\n",
       "      <td>A11007</td>\n",
       "      <td>(안암동5가)</td>\n",
       "      <td>2498</td>\n",
       "      <td>서울</td>\n",
       "      <td>1595</td>\n",
       "      <td>주유소/충전소</td>\n",
       "      <td>02857</td>\n",
       "      <td>서울 성북구 안암로 111 (안암동5가)</td>\n",
       "      <td>신방주유소</td>\n",
       "      <td>성북구</td>\n",
       "      <td>NaN</td>\n",
       "      <td>0</td>\n",
       "      <td>NaN</td>\n",
       "      <td>NaN</td>\n",
       "    </tr>\n",
       "    <tr>\n",
       "      <th>1</th>\n",
       "      <td>A11008</td>\n",
       "      <td>(삼선동1가)</td>\n",
       "      <td>2498</td>\n",
       "      <td>서울</td>\n",
       "      <td>1695</td>\n",
       "      <td>주유소/충전소</td>\n",
       "      <td>02866</td>\n",
       "      <td>서울 성북구 창경궁로 324 (삼선동1가)</td>\n",
       "      <td>삼선주유소</td>\n",
       "      <td>성북구</td>\n",
       "      <td>NaN</td>\n",
       "      <td>0</td>\n",
       "      <td>NaN</td>\n",
       "      <td>NaN</td>\n",
       "    </tr>\n",
       "    <tr>\n",
       "      <th>2</th>\n",
       "      <td>A11014</td>\n",
       "      <td>(홍은동)</td>\n",
       "      <td>2498</td>\n",
       "      <td>서울</td>\n",
       "      <td>1599</td>\n",
       "      <td>주유소/충전소</td>\n",
       "      <td>03659</td>\n",
       "      <td>서울 서대문구 가좌로 106 (홍은동)</td>\n",
       "      <td>(주)미래아스팔트신우주유소</td>\n",
       "      <td>서대문구</td>\n",
       "      <td>NaN</td>\n",
       "      <td>0</td>\n",
       "      <td>NaN</td>\n",
       "      <td>NaN</td>\n",
       "    </tr>\n",
       "    <tr>\n",
       "      <th>3</th>\n",
       "      <td>A11015</td>\n",
       "      <td>(홍제동)</td>\n",
       "      <td>2498</td>\n",
       "      <td>서울</td>\n",
       "      <td>1639</td>\n",
       "      <td>주유소/충전소</td>\n",
       "      <td>03631</td>\n",
       "      <td>서울 서대문구 세검정로 87 (홍제동)</td>\n",
       "      <td>(주)우남에너지 문화사랑주유소</td>\n",
       "      <td>서대문구</td>\n",
       "      <td>NaN</td>\n",
       "      <td>0</td>\n",
       "      <td>NaN</td>\n",
       "      <td>NaN</td>\n",
       "    </tr>\n",
       "    <tr>\n",
       "      <th>4</th>\n",
       "      <td>A11024</td>\n",
       "      <td>(공덕동)</td>\n",
       "      <td>2498</td>\n",
       "      <td>서울</td>\n",
       "      <td>1697</td>\n",
       "      <td>주유소/충전소</td>\n",
       "      <td>04207</td>\n",
       "      <td>서울 마포구 마포대로 186 (공덕동)</td>\n",
       "      <td>에쓰-오일(주)마포주유소 일반고객</td>\n",
       "      <td>마포구</td>\n",
       "      <td>NaN</td>\n",
       "      <td>0</td>\n",
       "      <td>NaN</td>\n",
       "      <td>NaN</td>\n",
       "    </tr>\n",
       "    <tr>\n",
       "      <th>...</th>\n",
       "      <td>...</td>\n",
       "      <td>...</td>\n",
       "      <td>...</td>\n",
       "      <td>...</td>\n",
       "      <td>...</td>\n",
       "      <td>...</td>\n",
       "      <td>...</td>\n",
       "      <td>...</td>\n",
       "      <td>...</td>\n",
       "      <td>...</td>\n",
       "      <td>...</td>\n",
       "      <td>...</td>\n",
       "      <td>...</td>\n",
       "      <td>...</td>\n",
       "    </tr>\n",
       "    <tr>\n",
       "      <th>2475</th>\n",
       "      <td>F10187</td>\n",
       "      <td>(배동)</td>\n",
       "      <td>2498</td>\n",
       "      <td>경북</td>\n",
       "      <td>0</td>\n",
       "      <td>주유소/충전소</td>\n",
       "      <td>38173</td>\n",
       "      <td>경북 경주시 반구대로 3682-15 (배동)</td>\n",
       "      <td>남산충전소</td>\n",
       "      <td>경주시</td>\n",
       "      <td>NaN</td>\n",
       "      <td>979</td>\n",
       "      <td>NaN</td>\n",
       "      <td>NaN</td>\n",
       "    </tr>\n",
       "    <tr>\n",
       "      <th>2476</th>\n",
       "      <td>F10188</td>\n",
       "      <td>(삼동)</td>\n",
       "      <td>2498</td>\n",
       "      <td>경기</td>\n",
       "      <td>0</td>\n",
       "      <td>주유소/충전소</td>\n",
       "      <td>12767</td>\n",
       "      <td>경기 광주시 경충대로 2187 (삼동)</td>\n",
       "      <td>(주)대지석유 갈마LPG충전소</td>\n",
       "      <td>광주시</td>\n",
       "      <td>NaN</td>\n",
       "      <td>1031</td>\n",
       "      <td>NaN</td>\n",
       "      <td>NaN</td>\n",
       "    </tr>\n",
       "    <tr>\n",
       "      <th>2477</th>\n",
       "      <td>F10189</td>\n",
       "      <td>(오로리)</td>\n",
       "      <td>2498</td>\n",
       "      <td>경북</td>\n",
       "      <td>0</td>\n",
       "      <td>주유소/충전소</td>\n",
       "      <td>39136</td>\n",
       "      <td>경북 구미시 고아읍 선산대로 1211 (오로리)</td>\n",
       "      <td>선산엘피지충전소</td>\n",
       "      <td>구미시</td>\n",
       "      <td>NaN</td>\n",
       "      <td>985</td>\n",
       "      <td>NaN</td>\n",
       "      <td>NaN</td>\n",
       "    </tr>\n",
       "    <tr>\n",
       "      <th>2478</th>\n",
       "      <td>F10190</td>\n",
       "      <td>(금음리)</td>\n",
       "      <td>2498</td>\n",
       "      <td>경북</td>\n",
       "      <td>\\N</td>\n",
       "      <td>주유소/충전소</td>\n",
       "      <td>36371</td>\n",
       "      <td>경북 울진군 후포면 동해대로 317 (금음리)</td>\n",
       "      <td>(주)서광충전주유소</td>\n",
       "      <td>울진군</td>\n",
       "      <td>NaN</td>\n",
       "      <td>\\N</td>\n",
       "      <td>NaN</td>\n",
       "      <td>NaN</td>\n",
       "    </tr>\n",
       "    <tr>\n",
       "      <th>2479</th>\n",
       "      <td>F10191</td>\n",
       "      <td>(관고동)</td>\n",
       "      <td>2498</td>\n",
       "      <td>경기</td>\n",
       "      <td>0</td>\n",
       "      <td>주유소/충전소</td>\n",
       "      <td>17379</td>\n",
       "      <td>경기 이천시 경충대로 2839 (관고동)</td>\n",
       "      <td>서천가스</td>\n",
       "      <td>이천시</td>\n",
       "      <td>NaN</td>\n",
       "      <td>1085</td>\n",
       "      <td>NaN</td>\n",
       "      <td>NaN</td>\n",
       "    </tr>\n",
       "  </tbody>\n",
       "</table>\n",
       "<p>2480 rows × 14 columns</p>\n",
       "</div>"
      ],
      "text/plain": [
       "      chnlNo    bunJi  rowTotalCnt sido ducostG chnlTypeCdNm zipCode  \\\n",
       "0     A11007  (안암동5가)         2498   서울    1595      주유소/충전소   02857   \n",
       "1     A11008  (삼선동1가)         2498   서울    1695      주유소/충전소   02866   \n",
       "2     A11014    (홍은동)         2498   서울    1599      주유소/충전소   03659   \n",
       "3     A11015    (홍제동)         2498   서울    1639      주유소/충전소   03631   \n",
       "4     A11024    (공덕동)         2498   서울    1697      주유소/충전소   04207   \n",
       "...      ...      ...          ...  ...     ...          ...     ...   \n",
       "2475  F10187     (배동)         2498   경북       0      주유소/충전소   38173   \n",
       "2476  F10188     (삼동)         2498   경기       0      주유소/충전소   12767   \n",
       "2477  F10189    (오로리)         2498   경북       0      주유소/충전소   39136   \n",
       "2478  F10190    (금음리)         2498   경북      \\N      주유소/충전소   36371   \n",
       "2479  F10191    (관고동)         2498   경기       0      주유소/충전소   17379   \n",
       "\n",
       "                           adres              chnlNm gugun chnlSubTypeCdNm  \\\n",
       "0         서울 성북구 안암로 111 (안암동5가)               신방주유소   성북구             NaN   \n",
       "1        서울 성북구 창경궁로 324 (삼선동1가)               삼선주유소   성북구             NaN   \n",
       "2          서울 서대문구 가좌로 106 (홍은동)      (주)미래아스팔트신우주유소  서대문구             NaN   \n",
       "3          서울 서대문구 세검정로 87 (홍제동)    (주)우남에너지 문화사랑주유소  서대문구             NaN   \n",
       "4          서울 마포구 마포대로 186 (공덕동)  에쓰-오일(주)마포주유소 일반고객   마포구             NaN   \n",
       "...                          ...                 ...   ...             ...   \n",
       "2475    경북 경주시 반구대로 3682-15 (배동)               남산충전소   경주시             NaN   \n",
       "2476       경기 광주시 경충대로 2187 (삼동)    (주)대지석유 갈마LPG충전소   광주시             NaN   \n",
       "2477  경북 구미시 고아읍 선산대로 1211 (오로리)            선산엘피지충전소   구미시             NaN   \n",
       "2478   경북 울진군 후포면 동해대로 317 (금음리)          (주)서광충전주유소   울진군             NaN   \n",
       "2479      경기 이천시 경충대로 2839 (관고동)                서천가스   이천시             NaN   \n",
       "\n",
       "     ducostB  fax chnlSubTypeCd  \n",
       "0          0  NaN           NaN  \n",
       "1          0  NaN           NaN  \n",
       "2          0  NaN           NaN  \n",
       "3          0  NaN           NaN  \n",
       "4          0  NaN           NaN  \n",
       "...      ...  ...           ...  \n",
       "2475     979  NaN           NaN  \n",
       "2476    1031  NaN           NaN  \n",
       "2477     985  NaN           NaN  \n",
       "2478      \\N  NaN           NaN  \n",
       "2479    1085  NaN           NaN  \n",
       "\n",
       "[2480 rows x 14 columns]"
      ]
     },
     "execution_count": 8,
     "metadata": {},
     "output_type": "execute_result"
    }
   ],
   "source": [
    "s_oil"
   ]
  },
  {
   "cell_type": "code",
   "execution_count": 9,
   "id": "cdc88366-75dc-4acf-a60f-23f628a93888",
   "metadata": {},
   "outputs": [
    {
     "data": {
      "text/plain": [
       "1534    충북\n",
       "1814    충북\n",
       "1807    충북\n",
       "1038    충북\n",
       "2201    충북\n",
       "        ..\n",
       "1681    강원\n",
       "1683    강원\n",
       "2234    강원\n",
       "914     강원\n",
       "947     강원\n",
       "Name: sido, Length: 2480, dtype: object"
      ]
     },
     "execution_count": 9,
     "metadata": {},
     "output_type": "execute_result"
    }
   ],
   "source": [
    "s_oil['sido'].sort_values(ascending = False)"
   ]
  },
  {
   "cell_type": "code",
   "execution_count": 22,
   "id": "6751ac82-bee3-4779-a56c-3caaf8ecc096",
   "metadata": {
    "scrolled": true
   },
   "outputs": [],
   "source": [
    "sido_df=s_oil.sort_values(by=['sido'])"
   ]
  },
  {
   "cell_type": "code",
   "execution_count": 11,
   "id": "71edbcef-cb6d-4954-84e9-a4be50a69292",
   "metadata": {},
   "outputs": [
    {
     "data": {
      "text/plain": [
       "np.int64(2480)"
      ]
     },
     "execution_count": 11,
     "metadata": {},
     "output_type": "execute_result"
    }
   ],
   "source": [
    "s_oil['sido'].count()"
   ]
  },
  {
   "cell_type": "code",
   "execution_count": 12,
   "id": "4900715a-ed62-40c2-87d1-f3063fad1208",
   "metadata": {},
   "outputs": [
    {
     "name": "stdout",
     "output_type": "stream",
     "text": [
      "sido\n",
      "경기    458\n",
      "경북    379\n",
      "경남    269\n",
      "충남    217\n",
      "전남    170\n",
      "전북    168\n",
      "충북    154\n",
      "강원    139\n",
      "대구     88\n",
      "서울     82\n",
      "부산     72\n",
      "울산     71\n",
      "광주     64\n",
      "인천     54\n",
      "대전     49\n",
      "제주     33\n",
      "세종     13\n",
      "Name: count, dtype: int64\n"
     ]
    }
   ],
   "source": [
    "print(s_oil['sido'].value_counts())"
   ]
  },
  {
   "cell_type": "code",
   "execution_count": 13,
   "id": "bf5e1074-48a0-45d7-9946-ff2e9e9a3af9",
   "metadata": {},
   "outputs": [],
   "source": [
    "seoul_df = s_oil[s_oil['sido'] == '서울']"
   ]
  },
  {
   "cell_type": "code",
   "execution_count": 14,
   "id": "6ea2ef3e-222d-4d13-a71c-9d66fd6bbaa5",
   "metadata": {
    "scrolled": true
   },
   "outputs": [
    {
     "data": {
      "text/html": [
       "<div>\n",
       "<style scoped>\n",
       "    .dataframe tbody tr th:only-of-type {\n",
       "        vertical-align: middle;\n",
       "    }\n",
       "\n",
       "    .dataframe tbody tr th {\n",
       "        vertical-align: top;\n",
       "    }\n",
       "\n",
       "    .dataframe thead th {\n",
       "        text-align: right;\n",
       "    }\n",
       "</style>\n",
       "<table border=\"1\" class=\"dataframe\">\n",
       "  <thead>\n",
       "    <tr style=\"text-align: right;\">\n",
       "      <th></th>\n",
       "      <th>chnlNo</th>\n",
       "      <th>bunJi</th>\n",
       "      <th>rowTotalCnt</th>\n",
       "      <th>sido</th>\n",
       "      <th>ducostG</th>\n",
       "      <th>chnlTypeCdNm</th>\n",
       "      <th>zipCode</th>\n",
       "      <th>adres</th>\n",
       "      <th>chnlNm</th>\n",
       "      <th>gugun</th>\n",
       "      <th>chnlSubTypeCdNm</th>\n",
       "      <th>ducostB</th>\n",
       "      <th>fax</th>\n",
       "      <th>chnlSubTypeCd</th>\n",
       "    </tr>\n",
       "  </thead>\n",
       "  <tbody>\n",
       "    <tr>\n",
       "      <th>0</th>\n",
       "      <td>A11007</td>\n",
       "      <td>(안암동5가)</td>\n",
       "      <td>2498</td>\n",
       "      <td>서울</td>\n",
       "      <td>1595</td>\n",
       "      <td>주유소/충전소</td>\n",
       "      <td>02857</td>\n",
       "      <td>서울 성북구 안암로 111 (안암동5가)</td>\n",
       "      <td>신방주유소</td>\n",
       "      <td>성북구</td>\n",
       "      <td>NaN</td>\n",
       "      <td>0</td>\n",
       "      <td>NaN</td>\n",
       "      <td>NaN</td>\n",
       "    </tr>\n",
       "    <tr>\n",
       "      <th>1</th>\n",
       "      <td>A11008</td>\n",
       "      <td>(삼선동1가)</td>\n",
       "      <td>2498</td>\n",
       "      <td>서울</td>\n",
       "      <td>1695</td>\n",
       "      <td>주유소/충전소</td>\n",
       "      <td>02866</td>\n",
       "      <td>서울 성북구 창경궁로 324 (삼선동1가)</td>\n",
       "      <td>삼선주유소</td>\n",
       "      <td>성북구</td>\n",
       "      <td>NaN</td>\n",
       "      <td>0</td>\n",
       "      <td>NaN</td>\n",
       "      <td>NaN</td>\n",
       "    </tr>\n",
       "    <tr>\n",
       "      <th>2</th>\n",
       "      <td>A11014</td>\n",
       "      <td>(홍은동)</td>\n",
       "      <td>2498</td>\n",
       "      <td>서울</td>\n",
       "      <td>1599</td>\n",
       "      <td>주유소/충전소</td>\n",
       "      <td>03659</td>\n",
       "      <td>서울 서대문구 가좌로 106 (홍은동)</td>\n",
       "      <td>(주)미래아스팔트신우주유소</td>\n",
       "      <td>서대문구</td>\n",
       "      <td>NaN</td>\n",
       "      <td>0</td>\n",
       "      <td>NaN</td>\n",
       "      <td>NaN</td>\n",
       "    </tr>\n",
       "    <tr>\n",
       "      <th>3</th>\n",
       "      <td>A11015</td>\n",
       "      <td>(홍제동)</td>\n",
       "      <td>2498</td>\n",
       "      <td>서울</td>\n",
       "      <td>1639</td>\n",
       "      <td>주유소/충전소</td>\n",
       "      <td>03631</td>\n",
       "      <td>서울 서대문구 세검정로 87 (홍제동)</td>\n",
       "      <td>(주)우남에너지 문화사랑주유소</td>\n",
       "      <td>서대문구</td>\n",
       "      <td>NaN</td>\n",
       "      <td>0</td>\n",
       "      <td>NaN</td>\n",
       "      <td>NaN</td>\n",
       "    </tr>\n",
       "    <tr>\n",
       "      <th>4</th>\n",
       "      <td>A11024</td>\n",
       "      <td>(공덕동)</td>\n",
       "      <td>2498</td>\n",
       "      <td>서울</td>\n",
       "      <td>1697</td>\n",
       "      <td>주유소/충전소</td>\n",
       "      <td>04207</td>\n",
       "      <td>서울 마포구 마포대로 186 (공덕동)</td>\n",
       "      <td>에쓰-오일(주)마포주유소 일반고객</td>\n",
       "      <td>마포구</td>\n",
       "      <td>NaN</td>\n",
       "      <td>0</td>\n",
       "      <td>NaN</td>\n",
       "      <td>NaN</td>\n",
       "    </tr>\n",
       "    <tr>\n",
       "      <th>...</th>\n",
       "      <td>...</td>\n",
       "      <td>...</td>\n",
       "      <td>...</td>\n",
       "      <td>...</td>\n",
       "      <td>...</td>\n",
       "      <td>...</td>\n",
       "      <td>...</td>\n",
       "      <td>...</td>\n",
       "      <td>...</td>\n",
       "      <td>...</td>\n",
       "      <td>...</td>\n",
       "      <td>...</td>\n",
       "      <td>...</td>\n",
       "      <td>...</td>\n",
       "    </tr>\n",
       "    <tr>\n",
       "      <th>2247</th>\n",
       "      <td>F01134</td>\n",
       "      <td>(휘경동)</td>\n",
       "      <td>2498</td>\n",
       "      <td>서울</td>\n",
       "      <td>0</td>\n",
       "      <td>주유소/충전소</td>\n",
       "      <td>02439</td>\n",
       "      <td>서울 동대문구 망우로 57 (휘경동)</td>\n",
       "      <td>수도에너지(주) 동서울지점</td>\n",
       "      <td>동대문구</td>\n",
       "      <td>NaN</td>\n",
       "      <td>1093</td>\n",
       "      <td>NaN</td>\n",
       "      <td>NaN</td>\n",
       "    </tr>\n",
       "    <tr>\n",
       "      <th>2256</th>\n",
       "      <td>F01155</td>\n",
       "      <td>(북가좌동)</td>\n",
       "      <td>2498</td>\n",
       "      <td>서울</td>\n",
       "      <td>0</td>\n",
       "      <td>주유소/충전소</td>\n",
       "      <td>03715</td>\n",
       "      <td>서울 서대문구 수색로 123 (북가좌동)</td>\n",
       "      <td>연일가스산업㈜</td>\n",
       "      <td>서대문구</td>\n",
       "      <td>NaN</td>\n",
       "      <td>1100</td>\n",
       "      <td>NaN</td>\n",
       "      <td>NaN</td>\n",
       "    </tr>\n",
       "    <tr>\n",
       "      <th>2262</th>\n",
       "      <td>F01164</td>\n",
       "      <td>(방배동)</td>\n",
       "      <td>2498</td>\n",
       "      <td>서울</td>\n",
       "      <td>0</td>\n",
       "      <td>주유소/충전소</td>\n",
       "      <td>06692</td>\n",
       "      <td>서울 서초구 동작대로 26 (방배동)</td>\n",
       "      <td>수도석유㈜</td>\n",
       "      <td>서초구</td>\n",
       "      <td>NaN</td>\n",
       "      <td>1093</td>\n",
       "      <td>NaN</td>\n",
       "      <td>NaN</td>\n",
       "    </tr>\n",
       "    <tr>\n",
       "      <th>2263</th>\n",
       "      <td>F01165</td>\n",
       "      <td>(공릉동)</td>\n",
       "      <td>2498</td>\n",
       "      <td>서울</td>\n",
       "      <td>0</td>\n",
       "      <td>주유소/충전소</td>\n",
       "      <td>01855</td>\n",
       "      <td>서울 노원구 화랑로 405 (공릉동)</td>\n",
       "      <td>태능가스㈜</td>\n",
       "      <td>노원구</td>\n",
       "      <td>NaN</td>\n",
       "      <td>1092</td>\n",
       "      <td>NaN</td>\n",
       "      <td>NaN</td>\n",
       "    </tr>\n",
       "    <tr>\n",
       "      <th>2299</th>\n",
       "      <td>F01355</td>\n",
       "      <td>(신정동)</td>\n",
       "      <td>2498</td>\n",
       "      <td>서울</td>\n",
       "      <td>0</td>\n",
       "      <td>주유소/충전소</td>\n",
       "      <td>08110</td>\n",
       "      <td>서울 양천구 신정로 146 (신정동)</td>\n",
       "      <td>수도에너지(주)</td>\n",
       "      <td>양천구</td>\n",
       "      <td>NaN</td>\n",
       "      <td>1093</td>\n",
       "      <td>NaN</td>\n",
       "      <td>NaN</td>\n",
       "    </tr>\n",
       "  </tbody>\n",
       "</table>\n",
       "<p>82 rows × 14 columns</p>\n",
       "</div>"
      ],
      "text/plain": [
       "      chnlNo    bunJi  rowTotalCnt sido ducostG chnlTypeCdNm zipCode  \\\n",
       "0     A11007  (안암동5가)         2498   서울    1595      주유소/충전소   02857   \n",
       "1     A11008  (삼선동1가)         2498   서울    1695      주유소/충전소   02866   \n",
       "2     A11014    (홍은동)         2498   서울    1599      주유소/충전소   03659   \n",
       "3     A11015    (홍제동)         2498   서울    1639      주유소/충전소   03631   \n",
       "4     A11024    (공덕동)         2498   서울    1697      주유소/충전소   04207   \n",
       "...      ...      ...          ...  ...     ...          ...     ...   \n",
       "2247  F01134    (휘경동)         2498   서울       0      주유소/충전소   02439   \n",
       "2256  F01155   (북가좌동)         2498   서울       0      주유소/충전소   03715   \n",
       "2262  F01164    (방배동)         2498   서울       0      주유소/충전소   06692   \n",
       "2263  F01165    (공릉동)         2498   서울       0      주유소/충전소   01855   \n",
       "2299  F01355    (신정동)         2498   서울       0      주유소/충전소   08110   \n",
       "\n",
       "                        adres              chnlNm gugun chnlSubTypeCdNm  \\\n",
       "0      서울 성북구 안암로 111 (안암동5가)               신방주유소   성북구             NaN   \n",
       "1     서울 성북구 창경궁로 324 (삼선동1가)               삼선주유소   성북구             NaN   \n",
       "2       서울 서대문구 가좌로 106 (홍은동)      (주)미래아스팔트신우주유소  서대문구             NaN   \n",
       "3       서울 서대문구 세검정로 87 (홍제동)    (주)우남에너지 문화사랑주유소  서대문구             NaN   \n",
       "4       서울 마포구 마포대로 186 (공덕동)  에쓰-오일(주)마포주유소 일반고객   마포구             NaN   \n",
       "...                       ...                 ...   ...             ...   \n",
       "2247     서울 동대문구 망우로 57 (휘경동)      수도에너지(주) 동서울지점  동대문구             NaN   \n",
       "2256   서울 서대문구 수색로 123 (북가좌동)             연일가스산업㈜  서대문구             NaN   \n",
       "2262     서울 서초구 동작대로 26 (방배동)               수도석유㈜   서초구             NaN   \n",
       "2263     서울 노원구 화랑로 405 (공릉동)               태능가스㈜   노원구             NaN   \n",
       "2299     서울 양천구 신정로 146 (신정동)            수도에너지(주)   양천구             NaN   \n",
       "\n",
       "     ducostB  fax chnlSubTypeCd  \n",
       "0          0  NaN           NaN  \n",
       "1          0  NaN           NaN  \n",
       "2          0  NaN           NaN  \n",
       "3          0  NaN           NaN  \n",
       "4          0  NaN           NaN  \n",
       "...      ...  ...           ...  \n",
       "2247    1093  NaN           NaN  \n",
       "2256    1100  NaN           NaN  \n",
       "2262    1093  NaN           NaN  \n",
       "2263    1092  NaN           NaN  \n",
       "2299    1093  NaN           NaN  \n",
       "\n",
       "[82 rows x 14 columns]"
      ]
     },
     "execution_count": 14,
     "metadata": {},
     "output_type": "execute_result"
    }
   ],
   "source": [
    "seoul_df"
   ]
  },
  {
   "cell_type": "code",
   "execution_count": 15,
   "id": "9cedfc34-a941-4aa0-b579-832c5fb526dd",
   "metadata": {
    "scrolled": true
   },
   "outputs": [
    {
     "name": "stdout",
     "output_type": "stream",
     "text": [
      "gugun\n",
      "서초구     7\n",
      "성북구     6\n",
      "중랑구     5\n",
      "노원구     5\n",
      "도봉구     5\n",
      "동대문구    5\n",
      "송파구     5\n",
      "서대문구    4\n",
      "영등포구    4\n",
      "강서구     4\n",
      "마포구     4\n",
      "강남구     4\n",
      "구로구     3\n",
      "양천구     2\n",
      "금천구     2\n",
      "관악구     2\n",
      "강동구     2\n",
      "종로구     2\n",
      "은평구     2\n",
      "광진구     2\n",
      "중구      2\n",
      "성동구     2\n",
      "강북구     2\n",
      "동작구     1\n",
      "Name: count, dtype: int64\n"
     ]
    }
   ],
   "source": [
    "print(seoul_df['gugun'].value_counts())"
   ]
  },
  {
   "cell_type": "code",
   "execution_count": 16,
   "id": "6aed8dad-686b-4d30-afc0-c4d59e0c807f",
   "metadata": {},
   "outputs": [],
   "source": [
    "seoul_df_gugun = seoul_df['gugun'].value_counts()"
   ]
  },
  {
   "cell_type": "code",
   "execution_count": 17,
   "id": "3731ae03-e0c1-4890-9323-7272aa3ec128",
   "metadata": {},
   "outputs": [
    {
     "data": {
      "text/plain": [
       "['NanumGothicCoding',\n",
       " 'NanumMyeongjo Eco',\n",
       " 'NanumMyeongjo',\n",
       " 'NanumGothic',\n",
       " 'NanumSquare',\n",
       " 'NanumGothic',\n",
       " 'NanumSquareRound',\n",
       " 'NanumMyeongjo',\n",
       " 'NanumSquareRound',\n",
       " 'NanumGothic',\n",
       " 'NanumBarunpen',\n",
       " 'NanumBarunGothic',\n",
       " 'NanumBarunGothic',\n",
       " 'NanumSquare',\n",
       " 'NanumSquare_ac',\n",
       " 'NanumSquare_ac',\n",
       " 'NanumGothic Eco',\n",
       " 'Nanum Pen Script',\n",
       " 'NanumGothic',\n",
       " 'NanumBarunpen',\n",
       " 'NanumGothic Eco',\n",
       " 'NanumMyeongjo Eco',\n",
       " 'NanumGothicCoding',\n",
       " 'NanumGothic Eco',\n",
       " 'NanumGothic Eco',\n",
       " 'NanumBarunGothic YetHangul',\n",
       " 'NanumBarunGothic',\n",
       " 'NanumSquareRound',\n",
       " 'NanumSquare',\n",
       " 'NanumBarunGothic',\n",
       " 'NanumMyeongjo Eco',\n",
       " 'NanumSquare_ac',\n",
       " 'NanumMyeongjo',\n",
       " 'NanumSquare_ac',\n",
       " 'NanumSquare',\n",
       " 'NanumMyeongjo YetHangul',\n",
       " 'NanumSquareRound',\n",
       " 'NanumMyeongjo Eco',\n",
       " 'Nanum Brush Script']"
      ]
     },
     "execution_count": 17,
     "metadata": {},
     "output_type": "execute_result"
    }
   ],
   "source": [
    "import matplotlib.font_manager\n",
    "font_list = matplotlib.font_manager.findSystemFonts(fontpaths=None, fontext='ttf')\n",
    "[matplotlib.font_manager.FontProperties(fname=font).get_name() for font in font_list if 'Nanum' in font]\n"
   ]
  },
  {
   "cell_type": "code",
   "execution_count": 18,
   "id": "b05fcb52-a0df-45d6-8108-8605f06c593f",
   "metadata": {},
   "outputs": [],
   "source": [
    "import matplotlib.pyplot as plt\n",
    "plt.rc('font', family='NanumGothicCoding')"
   ]
  },
  {
   "cell_type": "code",
   "execution_count": 29,
   "id": "c9a08c63-f2e8-4dab-b808-e0c2d180818a",
   "metadata": {},
   "outputs": [
    {
     "data": {
      "text/plain": [
       "<Axes: xlabel='sido'>"
      ]
     },
     "execution_count": 29,
     "metadata": {},
     "output_type": "execute_result"
    },
    {
     "data": {
      "image/png": "[encoded data removed]",
      "text/plain": [
       "<Figure size 640x480 with 1 Axes>"
      ]
     },
     "metadata": {},
     "output_type": "display_data"
    }
   ],
   "source": [
    "sido_df['sido'].value_counts().plot(kind='bar', rot=0)"
   ]
  },
  {
   "cell_type": "code",
   "execution_count": 21,
   "id": "494a0c78-6fff-48f0-aa6d-2d88fbf3e685",
   "metadata": {},
   "outputs": [
    {
     "data": {
      "text/plain": [
       "<Axes: xlabel='gugun'>"
      ]
     },
     "execution_count": 21,
     "metadata": {},
     "output_type": "execute_result"
    },
    {
     "data": {
      "image/png": "[encoded data removed]",
      "text/plain": [
       "<Figure size 640x480 with 1 Axes>"
      ]
     },
     "metadata": {},
     "output_type": "display_data"
    }
   ],
   "source": [
    "seoul_df_gugun.plot(kind='bar')"
   ]
  },
  {
   "cell_type": "code",
   "execution_count": 25,
   "id": "559c927e-6ace-4892-94d4-6387b62d9b4d",
   "metadata": {},
   "outputs": [
    {
     "data": {
      "text/plain": [
       "<bound method IndexOpsMixin.value_counts of 914     강원\n",
       "2072    강원\n",
       "1882    강원\n",
       "1333    강원\n",
       "830     강원\n",
       "        ..\n",
       "65      충북\n",
       "162     충북\n",
       "1894    충북\n",
       "69      충북\n",
       "1646    충북\n",
       "Name: sido, Length: 2480, dtype: object>"
      ]
     },
     "execution_count": 25,
     "metadata": {},
     "output_type": "execute_result"
    }
   ],
   "source": [
    "sido_df['sido'].value_counts"
   ]
  },
  {
   "cell_type": "code",
   "execution_count": null,
   "id": "e5f900b4-0005-4629-94fd-3e48093681fa",
   "metadata": {},
   "outputs": [],
   "source": [
    "import pandas as pd"
   ]
  },
  {
   "cell_type": "code",
   "execution_count": null,
   "id": "71ef34d8-9a2a-47e8-aea4-d0b46965a331",
   "metadata": {},
   "outputs": [],
   "source": [
    "import matplotlib.pyplot as plt"
   ]
  },
  {
   "cell_type": "code",
   "execution_count": null,
   "id": "68c9b377-04fa-43d1-95ff-3c174339e6d3",
   "metadata": {},
   "outputs": [],
   "source": [
    "df = pd.read_csv('./tb_s_oil.csv', header=None)"
   ]
  },
  {
   "cell_type": "code",
   "execution_count": null,
   "id": "d41d7947-3951-4a8e-a9c2-01e847931563",
   "metadata": {},
   "outputs": [],
   "source": [
    "df.head(3)"
   ]
  },
  {
   "cell_type": "code",
   "execution_count": null,
   "id": "549cdb27-62c6-484b-aaff-c055e4f775b1",
   "metadata": {},
   "outputs": [],
   "source": [
    "s_oil_sido_pie = ["
   ]
  },
  {
   "cell_type": "code",
   "execution_count": null,
   "id": "6de80de9-9f3b-4214-a864-ce17b2b4d0fc",
   "metadata": {},
   "outputs": [],
   "source": [
    "plt.style.use('default')"
   ]
  },
  {
   "cell_type": "code",
   "execution_count": null,
   "id": "a344522c-4f0e-410e-8127-a4d6a379a7a6",
   "metadata": {},
   "outputs": [],
   "source": [
    "s_oil"
   ]
  },
  {
   "cell_type": "code",
   "execution_count": null,
   "id": "28557f65-586e-4b27-9ff6-a632b0f3d10f",
   "metadata": {},
   "outputs": [],
   "source": [
    "s_oil_sido_pie.colums = ['chnlNo','bunJi','rowTotalCnt','sido','ducostG','chnlTypeCdNm','zipCode','adres','chnlNm','gugun','chnlSubTypeCdNm','ducostB','fax','chnlSubTypeCd']"
   ]
  },
  {
   "cell_type": "code",
   "execution_count": 1,
   "id": "e0a59c50-9c26-44d7-83f7-921042ad017a",
   "metadata": {},
   "outputs": [
    {
     "data": {
      "text/plain": [
       "'/home/encore/workspace'"
      ]
     },
     "execution_count": 1,
     "metadata": {},
     "output_type": "execute_result"
    }
   ],
   "source": [
    "pwd"
   ]
  },
  {
   "cell_type": "code",
   "execution_count": null,
   "id": "8e8d4acd-80ce-42b2-aafd-538bf8b1255f",
   "metadata": {},
   "outputs": [],
   "source": []
  }
 ],
 "metadata": {
  "kernelspec": {
   "display_name": "Python 3 (ipykernel)",
   "language": "python",
   "name": "python3"
  },
  "language_info": {
   "codemirror_mode": {
    "name": "ipython",
    "version": 3
   },
   "file_extension": ".py",
   "mimetype": "text/x-python",
   "name": "python",
   "nbconvert_exporter": "python",
   "pygments_lexer": "ipython3",
   "version": "3.10.15"
  }
 },
 "nbformat": 4,
 "nbformat_minor": 5
}
